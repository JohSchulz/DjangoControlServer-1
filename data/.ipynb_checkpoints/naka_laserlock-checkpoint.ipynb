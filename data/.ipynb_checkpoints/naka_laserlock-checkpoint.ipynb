{
 "cells": [
  {
   "cell_type": "markdown",
   "id": "49f3d57f",
   "metadata": {},
   "source": [
    "# LASER LOCK"
   ]
  },
  {
   "cell_type": "code",
   "execution_count": 1,
   "id": "57d00b3a",
   "metadata": {},
   "outputs": [],
   "source": [
    "# import libraries for devices\n",
    "import time, datetime, csv\n",
    "from pathlib import Path\n",
    "from ipywidgets import interact\n",
    "\n",
    "# import libraries for plotting etc\n",
    "import matplotlib.pyplot as plt\n",
    "import numpy as np \n",
    "\n",
    "%matplotlib inline"
   ]
  },
  {
   "cell_type": "markdown",
   "id": "cedb380f",
   "metadata": {},
   "source": [
    "## 1. Connect to the RedPitaya\n",
    "\n",
    "- The config file should already have all the modules opened up, otherwise open them and set all the values accordingly ( see labNotes...)\n",
    "- Start ramping with the full range of 1 V such that you do not miss the signal"
   ]
  },
  {
   "cell_type": "code",
   "execution_count": 2,
   "id": "0f1caa6f",
   "metadata": {},
   "outputs": [
    {
     "name": "stderr",
     "output_type": "stream",
     "text": [
      "INFO:pyrpl:All your PyRPL settings will be saved to the config file\n",
      "    C:\\Users\\NaKaControl\\pyrpl_user_dir\\config\\111.yml\n",
      "If you would like to restart PyRPL with these settings, type \"pyrpl.exe 111\" in a windows terminal or \n",
      "    from pyrpl import Pyrpl\n",
      "    p = Pyrpl('111')\n",
      "in a python terminal.\n",
      "INFO:pyrpl.redpitaya:Successfully connected to Redpitaya with hostname 10.0.2.111.\n",
      "WARNING:pyrpl.modules:Register pause_gains of module pid0 has value 7, which does not correspond to selected option 0. Setting to 'off'. \n"
     ]
    }
   ],
   "source": [
    "import pyrpl\n",
    "p = pyrpl.Pyrpl(hostname=\"10.0.2.111\", config=\"111.yml\"); r = p.rp"
   ]
  },
  {
   "cell_type": "code",
   "execution_count": 16,
   "id": "d1fc32e1",
   "metadata": {},
   "outputs": [],
   "source": [
    "# shortcut to save data\n",
    "def save_data(data, timestamp, device):\n",
    "    full_path = Path(Path.home().as_posix()+'/Dropbox (CoQuMa)/LabNotes/NaKa/'+timestamp[:7]+'/'+timestamp[:10]+'/data')\n",
    "    try :\n",
    "        full_path.mkdir(parents=True, exist_ok=True)\n",
    "    except FileExistsError :\n",
    "        print('already exists!')\n",
    "        full_path = Path(Path.cwd().as_posix()+'/data')\n",
    "                        \n",
    "    with open(str(full_path)+'\\\\' + device + '_'+timestamp[:10]+'.csv', 'a', newline='', encoding='UTF8') as f:\n",
    "        writer = csv.writer(f)\n",
    "        writer.writerow(data)"
   ]
  },
  {
   "cell_type": "code",
   "execution_count": null,
   "id": "2b2d127e",
   "metadata": {},
   "outputs": [
    {
     "name": "stdout",
     "output_type": "stream",
     "text": [
      "['2021-12-10 17:30:11', 0.069, -0.001, 0.0, 0.5]\r"
     ]
    }
   ],
   "source": [
    "# just keep track of the lock...\n",
    "moku = np.round(i.read_power_supply(1)['set_voltage'],3)\n",
    "\n",
    "while True:\n",
    "    now = datetime.datetime.now()\n",
    "    timestamp = now.strftime(\"%Y-%m-%d %H:%M:%S\")\n",
    "    \n",
    "    data = [ timestamp, np.round(r.scope.voltage_in1,3), np.round(r.scope.voltage_in2,3), np.round(r.pid0.setpoint,3), moku ]\n",
    "    \n",
    "    save_data(data, timestamp, 'lock')\n",
    "    print(data, end='\\r')\n",
    "    \n",
    "    if -1 >= r.scope.voltage_in1 or 1 <= r.scope.voltage_in1 : print('Out of lock!')\n",
    "        \n",
    "    time.sleep(5)"
   ]
  },
  {
   "cell_type": "markdown",
   "id": "1a444fea",
   "metadata": {},
   "source": [
    "## 2. Connect to the Moku:GO\n",
    "- It may be, that the moku is already inizialized and won't respond. In that case, clear all connections first and then retry"
   ]
  },
  {
   "cell_type": "code",
   "execution_count": 3,
   "id": "ec223b29",
   "metadata": {},
   "outputs": [],
   "source": [
    "from moku.instruments import ArbitraryWaveformGenerator"
   ]
  },
  {
   "cell_type": "code",
   "execution_count": null,
   "id": "54142cb5",
   "metadata": {},
   "outputs": [],
   "source": [
    "# Close the connection to the Moku device\n",
    "# This ensures network resources and released correctly\n",
    "# i.relinquish_ownership()\n",
    "    \n",
    "i = ArbitraryWaveformGenerator('10.0.2.110', force_connect=True)"
   ]
  },
  {
   "cell_type": "code",
   "execution_count": 13,
   "id": "151ef082",
   "metadata": {},
   "outputs": [],
   "source": [
    " i.relinquish_ownership()"
   ]
  },
  {
   "cell_type": "markdown",
   "id": "975c385f",
   "metadata": {},
   "source": [
    "## 3. Find a good offset for the ramping"
   ]
  },
  {
   "cell_type": "code",
   "execution_count": 15,
   "id": "137237e9",
   "metadata": {},
   "outputs": [
    {
     "data": {
      "text/plain": [
       "{'id': 1,\n",
       " 'enabled': True,\n",
       " 'current_range': [0, 0.15],\n",
       " 'voltage_range': [-5, 5],\n",
       " 'set_voltage': 0.5,\n",
       " 'set_current': 0.15,\n",
       " 'actual_voltage': 0.9662500000000005,\n",
       " 'actual_current': -0.003452758789062482,\n",
       " 'constant_current_mode': True,\n",
       " 'constant_voltage_mode': False}"
      ]
     },
     "execution_count": 15,
     "metadata": {},
     "output_type": "execute_result"
    }
   ],
   "source": [
    "# i.relinquish_ownership()\n",
    "    \n",
    "i = ArbitraryWaveformGenerator('10.0.2.110', force_connect=True)\n",
    "\n",
    "# Here you can access the available_power_supplies function\n",
    "i.available_power_supplies()\n",
    "\n",
    "# We usually have to set the ramping off by about 2 V...\n",
    "i.set_power_supply(1, enable=True, voltage=0.5, current=0.15)\n",
    "# print(np.round(i.read_power_supply(1)['set_voltage'],3))\n",
    "# i.relinquish_ownership()"
   ]
  },
  {
   "cell_type": "markdown",
   "id": "8d9c763b",
   "metadata": {},
   "source": [
    "## 4. Zoom in unto the CO-resonance\n",
    "- Decrease the amplitude of the ramping while adjusting the offset given by the Moku:GO such that the resonance stays in the center of the slope"
   ]
  },
  {
   "cell_type": "markdown",
   "id": "ca7083ea",
   "metadata": {},
   "source": [
    "## 5. Actual locking\n",
    "- Turn on the fast ( 10 kHz ) modulation via the coil. Check for the iq output\n",
    "- Set the setpoint of the PID, turn of the ramp and forward the PID output to the laser ( out 1 )"
   ]
  },
  {
   "cell_type": "markdown",
   "id": "b6228ab3",
   "metadata": {},
   "source": [
    "Enjoy your lock!"
   ]
  },
  {
   "cell_type": "markdown",
   "id": "8f79fe9b",
   "metadata": {},
   "source": [
    "# APPENDIX"
   ]
  },
  {
   "cell_type": "markdown",
   "id": "86ea1380",
   "metadata": {},
   "source": [
    "## Moku:GO Oscilloscope"
   ]
  },
  {
   "cell_type": "code",
   "execution_count": null,
   "id": "55e7e8bb",
   "metadata": {},
   "outputs": [],
   "source": [
    "# Here we want to have the plots in an external window\n",
    "%matplotlib"
   ]
  },
  {
   "cell_type": "code",
   "execution_count": null,
   "id": "98e193e8",
   "metadata": {},
   "outputs": [],
   "source": [
    "i.relinquish_ownership()"
   ]
  },
  {
   "cell_type": "code",
   "execution_count": null,
   "id": "8fd7b055",
   "metadata": {},
   "outputs": [],
   "source": [
    "# This example demonstrates how you can configure the Oscilloscope instrument,\n",
    "# and view triggered time-voltage data frames in real-time.\n",
    "#\n",
    "# (c) 2021 Liquid Instruments Pty. Ltd.\n",
    "from moku.instruments import Oscilloscope\n",
    "\n",
    "i = Oscilloscope('10.0.2.110', force_connect=True)\n",
    "\n",
    "def on_close(event):\n",
    "    print('Closed Figure!')\n",
    "    global stop\n",
    "    stop ^= True\n",
    "    \n",
    "# def set_offset(voltage):\n",
    "#     i.set_power_supply(1, enable=True, voltage=voltage, current=0.0)\n",
    "    \n",
    "# interact(set_offset, voltage=(0,2))\n",
    "    \n",
    "stop = False\n",
    "    \n",
    "try:\n",
    "    # Trigger on input Channel 1, rising edge, 0V \n",
    "    i.set_trigger(type='Edge', source='Input1', level=0)\n",
    "\n",
    "    # View +-5usec, i.e. trigger in the centre\n",
    "    i.set_timebase(-0.25, 0.25)\n",
    "    \n",
    "    # Generate an output sine wave on Channel 1, 1Vpp, 1MHz, 0V offset\n",
    "    i.generate_waveform(1, 'Sine', amplitude=1, frequency=10)\n",
    "\n",
    "    # Set the data source of Channel 1 to be Input 1\n",
    "    i.set_source(1, 'Input1')\n",
    "\n",
    "    # Set the data source of Channel 2 to the generated output sinewave\n",
    "#     i.set_source(2, 'Input2')\n",
    "\n",
    "\n",
    "    # Get initial data frame to set up plotting parameters. This can be done\n",
    "    # once if we know that the axes aren't going to change (otherwise we'd do\n",
    "    # this in the loop)\n",
    "    data = i.get_data()\n",
    "    print(data['time'][0], data['time'][-1])\n",
    "\n",
    "    # Set up the plotting parameters\n",
    "    plt.ion()\n",
    "    plt.show()\n",
    "    plt.grid(b=True)\n",
    "    plt.ylim([-1,1])\n",
    "    plt.xlim([data['time'][0], data['time'][-1]])\n",
    "\n",
    "    line1, = plt.plot([], label='channel 1')\n",
    "#     line2, = plt.plot([], label='channel 2')\n",
    "\n",
    "    # Configure labels for axes\n",
    "    ax = plt.gca()\n",
    "    \n",
    "    # This loops continuously updates the plot with new data\n",
    "    while True:\n",
    "        if stop : break\n",
    "            \n",
    "        # Get new data\n",
    "        data = i.get_data()\n",
    "\n",
    "        # Update the plot\n",
    "        line1.set_ydata(data['ch1'])\n",
    "#         line2.set_ydata(data['ch2'])\n",
    "        line1.set_xdata(data['time'])\n",
    "#         line2.set_xdata(data['time'])\n",
    "        \n",
    "        ax.set_title(datetime.datetime.now().strftime(\"%d/%m/%Y, %H:%M:%S\"))\n",
    "        ax.legend()\n",
    "\n",
    "        plt.pause(0.001)\n",
    "        \n",
    "        fig = plt.gcf()  # get current figure\n",
    "        fig.canvas.mpl_connect('close_event', on_close)\n",
    "        \n",
    "except Exception as e:\n",
    "    print(f'Exception occurred: {e}')\n",
    "    import sys\n",
    "    exc_type, exc_obj, exc_tb = sys.exc_info()\n",
    "    print(exc_type, exc_tb.tb_lineno)\n",
    "except KeyboardInterrupt:\n",
    "    print('Interrupt!')\n",
    "finally:\n",
    "    # Close the connection to the Moku device\n",
    "    # This ensures network resources and released correctly\n",
    "    i.relinquish_ownership()\n",
    "    print('Ownership relinquished!')\n",
    "    \n",
    "i.relinquish_ownership()\n",
    "print('Ownership relinquished at last!')"
   ]
  },
  {
   "cell_type": "markdown",
   "id": "8de0b9f3",
   "metadata": {},
   "source": [
    "## Moku:GO Spectrum analyzer"
   ]
  },
  {
   "cell_type": "code",
   "execution_count": null,
   "id": "82c5dd89",
   "metadata": {
    "scrolled": false
   },
   "outputs": [],
   "source": [
    "#\n",
    "# moku example: Plotting Spectrum Analyzer\n",
    "#\n",
    "# This example demonstrates how you can configure the Spectrum Analyzer\n",
    "# instrument and plot its spectrum data in real-time. \n",
    "#\n",
    "# (c) 2021 Liquid Instruments Pty. Ltd.\n",
    "#\n",
    "import logging\n",
    "\n",
    "import matplotlib.pyplot as plt\n",
    "from moku.instruments import SpectrumAnalyzer\n",
    "\n",
    "logging.basicConfig(format='%(asctime)s:%(name)s:%(levelname)s::%(message)s')\n",
    "logging.getLogger('moku_client').setLevel(logging.INFO)\n",
    "\n",
    "# Connect to your Moku by its ip address using SpectrumAnalyzer('192.168.###.###')\n",
    "# or by its serial number using SpectrumAnalyzer(serial=123)\n",
    "i = SpectrumAnalyzer('10.0.2.110', force_connect=True)\n",
    "\n",
    "try:\n",
    "    # Configure the Spectrum Analyzer \n",
    "    i.set_span(frequency1=0, frequency2=30e6)\n",
    "    i.disable_output(1)\n",
    "    i.set_rbw('Auto')  # Auto-mode\n",
    "    \n",
    "    # Configure ADC inputs\n",
    "    i.set_frontend(1, impedance='1MOhm', coupling='DC', range='10Vpp')\n",
    "    i.set_frontend(2, impedance='1MOhm', coupling='DC', range='10Vpp')\n",
    "    \n",
    "    # Get an initial frame of data to set any frame-specific plot parameters\n",
    "    frame = i.get_data()\n",
    "    print(np.min(frame['ch1']), np.max(frame['ch1']))\n",
    "    print(frame['frequency'][0], frame['frequency'][-1])\n",
    "\n",
    "    # Set up basic plot configurations\n",
    "    line1, = plt.plot(frame['frequency'], frame['ch1'])\n",
    "    line2, = plt.plot([])\n",
    "    \n",
    "    plt.ion()\n",
    "    plt.show()\n",
    "    plt.grid(b=True)\n",
    "    plt.ylim([np.min(frame['ch1']), np.max(frame['ch1'])])\n",
    "    plt.xlim([frame['frequency'][0], frame['frequency'][-1]])\n",
    "    plt.autoscale(axis='x', tight=True)\n",
    "\n",
    "    # Format the x-axis as a frequency scale\n",
    "#     ax = plt.gca()\n",
    "\n",
    "    # Get and update the plot with new data\n",
    "    while True:\n",
    "        frame = i.get_data()\n",
    "        \n",
    "        # Set the frame data for each channel plot\n",
    "        line1.set_ydata(frame['ch1'])\n",
    "        line2.set_ydata(frame['ch2'])\n",
    "        # Frequency axis shouldn't change, but to be sure\n",
    "        line1.set_xdata(frame['frequency'])\n",
    "        line2.set_xdata(frame['frequency'])\n",
    "        # Ensure the frequency axis is a tight fit\n",
    "#         ax.relim()\n",
    "#         ax.autoscale_view()\n",
    "\n",
    "        # Redraw the lines\n",
    "        plt.draw()\n",
    "        plt.pause(0.001)\n",
    "\n",
    "except Exception as e:\n",
    "    print(f'Exception occurred: {e}')\n",
    "finally:\n",
    "    # Close the connection to the Moku device\n",
    "    # This ensures network resources and released correctly\n",
    "    i.relinquish_ownership()"
   ]
  },
  {
   "cell_type": "markdown",
   "id": "064862a1",
   "metadata": {},
   "source": [
    "## Moku:GO PID controller"
   ]
  },
  {
   "cell_type": "code",
   "execution_count": null,
   "id": "ae72c80d",
   "metadata": {},
   "outputs": [],
   "source": [
    "# moku example: PID Controller Plotting Example\n",
    "#\n",
    "# This script demonstrates how to configure both PID Controllers\n",
    "# in the PID Controller instrument. Configuration on the Channel 1\n",
    "# PID is done by specifying frequency response characteristics,\n",
    "# while Channel 2 specifies the gain characteristics.\n",
    "#\n",
    "# The output response of each PID Controller channel is plotted\n",
    "# in real-time.\n",
    "#\n",
    "# (c) 2021 Liquid Instruments Pty. Ltd.\n",
    "#\n",
    "import matplotlib.pyplot as plt\n",
    "from moku.instruments import PIDController\n",
    "\n",
    "# Connect to your Moku by its ip address using PIDController('192.168.###.###')\n",
    "# or by its serial number using PIDController(serial=123)\n",
    "i = PIDController('10.0.2.110', force_connect=True)\n",
    "\n",
    "try:\n",
    "    # Configures the control matrix:\n",
    "    # Channel 1: input 1 gain = 1 dB, input 2 gain = 0 dB\n",
    "    # Channel 2: input 2 gain = 0 dB, input 2 gain = 1 dB\n",
    "    i.set_control_matrix(channel=1, input_gain1=1, input_gain2=0)\n",
    "    # i.set_control_matrix(channel=2, input_gain1=0, input_gain2=1)\n",
    "\n",
    "    # Configure the Channel 1 PID Controller using frequency response\n",
    "    # characteristics\n",
    "    # \tP = -10dB\n",
    "    #\tI Crossover = 100Hz\n",
    "    # \tD Crossover = 10kHz\n",
    "    # \tI Saturation = 10dB\n",
    "    # \tD Saturation = 10dB\n",
    "    # \tDouble-I = OFF\n",
    "    # Note that gains must be converted from dB first\n",
    "    i.set_by_frequency(channel=1, prop_gain=3, int_gain=1e-1)\n",
    "\n",
    "    # Set the probes to monitor Output 1 and Output 2\n",
    "    i.set_monitor(1, 'Output1')\n",
    "\n",
    "    # Set the timebase\n",
    "    i.set_timebase(-1e-3, 1e-3) # +- 1msec\n",
    "    i.set_trigger(type='Edge', source='Input1', level=0)\n",
    "\n",
    "    # Enable the output channels of the PID controller\n",
    "    i.enable_output(1, True, True)\n",
    "\n",
    "    # Get initial data frame to set up plotting parameters. This can be done\n",
    "    # once if we know that the axes aren't going to change (otherwise we'd do\n",
    "    # this in the loop)\n",
    "    data = i.get_data()\n",
    "\n",
    "    # Set up the plotting parameters\n",
    "    plt.ion()\n",
    "    plt.show()\n",
    "    plt.grid(b=True)\n",
    "    plt.ylim([-1, 1])\n",
    "    plt.xlim([data['time'][0], data['time'][-1]])\n",
    "\n",
    "    line1, = plt.plot([])\n",
    "\n",
    "    # Configure labels for axes\n",
    "    ax = plt.gca()\n",
    "\n",
    "    # This loops continuously updates the plot with new data\n",
    "    while True:\n",
    "        # Get new data\n",
    "        data = i.get_data()\n",
    "\n",
    "        # Update the plot\n",
    "        line1.set_ydata(data['ch1'])\n",
    "        line1.set_xdata(data['time'])\n",
    "        plt.pause(0.001)\n",
    "\n",
    "except Exception as e:\n",
    "    print(f'Exception occurred: {e}')\n",
    "finally:\n",
    "    # Close the connection to the Moku device\n",
    "    # This ensures network resources and released correctly\n",
    "    i.relinquish_ownership()"
   ]
  },
  {
   "cell_type": "code",
   "execution_count": null,
   "id": "dcb21968",
   "metadata": {},
   "outputs": [],
   "source": [
    "i.relinquish_ownership()"
   ]
  }
 ],
 "metadata": {
  "kernelspec": {
   "display_name": "Python 3",
   "language": "python",
   "name": "python3"
  },
  "language_info": {
   "codemirror_mode": {
    "name": "ipython",
    "version": 3
   },
   "file_extension": ".py",
   "mimetype": "text/x-python",
   "name": "python",
   "nbconvert_exporter": "python",
   "pygments_lexer": "ipython3",
   "version": "3.9.7"
  }
 },
 "nbformat": 4,
 "nbformat_minor": 5
}
