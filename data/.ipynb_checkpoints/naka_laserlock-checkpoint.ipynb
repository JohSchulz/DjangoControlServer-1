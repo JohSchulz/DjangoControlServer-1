{
 "cells": [
  {
   "cell_type": "markdown",
   "id": "49f3d57f",
   "metadata": {},
   "source": [
    "# LASER LOCK"
   ]
  },
  {
   "cell_type": "code",
   "execution_count": null,
   "id": "57d00b3a",
   "metadata": {},
   "outputs": [],
   "source": [
    "# import libraries for devices\n",
    "import time, datetime\n",
    "\n",
    "# import libraries for plotting etc\n",
    "import matplotlib.pyplot as plt\n",
    "import numpy as np\n",
    "\n",
    "%matplotlib inline"
   ]
  },
  {
   "cell_type": "markdown",
   "id": "cedb380f",
   "metadata": {},
   "source": [
    "## 1. Connect to the RedPitaya\n",
    "\n",
    "- The config file should already have all the modules opened up, otherwise open them and set all the values accordingly ( see labNotes...)\n",
    "- Start ramping with the full range of 1 V such that you do not miss the signal"
   ]
  },
  {
   "cell_type": "code",
   "execution_count": null,
   "id": "0f1caa6f",
   "metadata": {},
   "outputs": [],
   "source": [
    "import pyrpl"
   ]
  },
  {
   "cell_type": "code",
   "execution_count": null,
   "id": "c0319e21",
   "metadata": {},
   "outputs": [],
   "source": [
    "p = pyrpl.Pyrpl(hostname=\"10.0.2.111\", config=\"111.yml\")"
   ]
  },
  {
   "cell_type": "markdown",
   "id": "1a444fea",
   "metadata": {},
   "source": [
    "## 2. Connect to the Moku:GO\n",
    "- It may be, that the moku is already inizialized and won't respond. In that case, clear all connections first and then retry"
   ]
  },
  {
   "cell_type": "code",
   "execution_count": null,
   "id": "ec223b29",
   "metadata": {},
   "outputs": [],
   "source": [
    "from moku.instruments import ArbitraryWaveformGenerator, Oscilloscope"
   ]
  },
  {
   "cell_type": "code",
   "execution_count": null,
   "id": "54142cb5",
   "metadata": {},
   "outputs": [],
   "source": [
    "# Close the connection to the Moku device\n",
    "# This ensures network resources and released correctly\n",
    "# i.relinquish_ownership()\n",
    "    \n",
    "i = ArbitraryWaveformGenerator('10.0.2.112', force_connect=True)"
   ]
  },
  {
   "cell_type": "markdown",
   "id": "975c385f",
   "metadata": {},
   "source": [
    "## 3. Find a good offset for the ramping"
   ]
  },
  {
   "cell_type": "code",
   "execution_count": null,
   "id": "137237e9",
   "metadata": {},
   "outputs": [],
   "source": [
    "# Here you can access the available_power_supplies function\n",
    "#i.available_power_supplies()\n",
    "\n",
    "# We usually have to set the ramping off by about 2 V...\n",
    "i.set_power_supply(1, enable=True, voltage=0, current=0.0)"
   ]
  },
  {
   "cell_type": "markdown",
   "id": "8d9c763b",
   "metadata": {},
   "source": [
    "## 4. Zoom in unto the CO-resonance\n",
    "- Decrease the amplitude of the ramping while adjusting the offset given by the Moku:GO such that the resonance stays in the center of the slope"
   ]
  },
  {
   "cell_type": "markdown",
   "id": "ca7083ea",
   "metadata": {},
   "source": [
    "## 5. Actual locking\n",
    "- Turn on the fast ( 10 kHz ) modulation via the coil. Check for the iq output\n",
    "- Set the setpoint of the PID, turn of the ramp and forward the PID output to the laser ( out 1 )"
   ]
  },
  {
   "cell_type": "markdown",
   "id": "b6228ab3",
   "metadata": {},
   "source": [
    "Enjoy your lock!"
   ]
  },
  {
   "cell_type": "markdown",
   "id": "8f79fe9b",
   "metadata": {},
   "source": [
    "# APPENDIX"
   ]
  },
  {
   "cell_type": "markdown",
   "id": "86ea1380",
   "metadata": {},
   "source": [
    "## Moku:GO Oscilloscope"
   ]
  },
  {
   "cell_type": "code",
   "execution_count": null,
   "id": "55e7e8bb",
   "metadata": {},
   "outputs": [],
   "source": [
    "# Here we want to have the plots in an external window\n",
    "%matplotlib"
   ]
  },
  {
   "cell_type": "code",
   "execution_count": null,
   "id": "98e193e8",
   "metadata": {},
   "outputs": [],
   "source": [
    "i.relinquish_ownership()\n",
    "# i = Oscilloscope('10.0.2.112', force_connect=False)"
   ]
  },
  {
   "cell_type": "code",
   "execution_count": null,
   "id": "27ca3233",
   "metadata": {},
   "outputs": [],
   "source": [
    "i = Oscilloscope('10.0.2.112', force_connect=True)"
   ]
  },
  {
   "cell_type": "code",
   "execution_count": null,
   "id": "8fd7b055",
   "metadata": {},
   "outputs": [],
   "source": [
    "# This example demonstrates how you can configure the Oscilloscope instrument,\n",
    "# and view triggered time-voltage data frames in real-time.\n",
    "#\n",
    "# (c) 2021 Liquid Instruments Pty. Ltd.\n",
    "def on_close(event):\n",
    "    print('Closed Figure!')\n",
    "    i.relinquish_ownership()\n",
    "\n",
    "try:\n",
    "    # Trigger on input Channel 1, rising edge, 0V \n",
    "    i.set_trigger(type='Edge', source='Input1', level=0)\n",
    "\n",
    "    # View +-5usec, i.e. trigger in the centre\n",
    "    i.set_timebase(-5e-6, 5e-6)\n",
    "\n",
    "    # Set the data source of Channel 1 to be Input 1\n",
    "    i.set_source(1, 'Input1')\n",
    "\n",
    "    # Set the data source of Channel 2 to the generated output sinewave\n",
    "    i.set_source(2, 'Input2')\n",
    "\n",
    "\n",
    "    # Get initial data frame to set up plotting parameters. This can be done\n",
    "    # once if we know that the axes aren't going to change (otherwise we'd do\n",
    "    # this in the loop)\n",
    "    data = i.get_data()\n",
    "\n",
    "    # Set up the plotting parameters\n",
    "    plt.ion()\n",
    "    plt.show()\n",
    "    plt.grid(b=True)\n",
    "    plt.ylim([-1, 1])\n",
    "    plt.xlim([data['time'][0], data['time'][-1]])\n",
    "\n",
    "    line1, = plt.plot([], label='channel 1')\n",
    "    line2, = plt.plot([], label='channel 2')\n",
    "\n",
    "    # Configure labels for axes\n",
    "    ax = plt.gca()\n",
    "    \n",
    "    # This loops continuously updates the plot with new data\n",
    "    while True:\n",
    "        # Get new data\n",
    "        data = i.get_data()\n",
    "\n",
    "        # Update the plot\n",
    "        line1.set_ydata(data['ch1'])\n",
    "        line2.set_ydata(data['ch2'])\n",
    "        line1.set_xdata(data['time'])\n",
    "        line2.set_xdata(data['time'])\n",
    "        \n",
    "        ax.set_title(datetime.datetime.now().strftime(\"%d/%m/%Y, %H:%M:%S\"))\n",
    "        ax.legend()\n",
    "\n",
    "        plt.pause(0.001)\n",
    "        \n",
    "        fig = plt.gcf()  # get current figure\n",
    "        fig.canvas.mpl_connect('close_event', on_close)\n",
    "        \n",
    "except Exception as e:\n",
    "    print(f'Exception occurred: {e}')\n",
    "except KeyboardInterrupt:\n",
    "    print('Interrupt!')\n",
    "finally:\n",
    "    # Close the connection to the Moku device\n",
    "    # This ensures network resources and released correctly\n",
    "    i.relinquish_ownership()\n",
    "    print('Ownership relinquished!')"
   ]
  }
 ],
 "metadata": {
  "kernelspec": {
   "display_name": "Python 3 (ipykernel)",
   "language": "python",
   "name": "python3"
  },
  "language_info": {
   "codemirror_mode": {
    "name": "ipython",
    "version": 3
   },
   "file_extension": ".py",
   "mimetype": "text/x-python",
   "name": "python",
   "nbconvert_exporter": "python",
   "pygments_lexer": "ipython3",
   "version": "3.9.5"
  }
 },
 "nbformat": 4,
 "nbformat_minor": 5
}
