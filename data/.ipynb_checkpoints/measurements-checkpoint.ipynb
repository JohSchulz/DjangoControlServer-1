{
 "cells": [
  {
   "cell_type": "markdown",
   "id": "d7809ca7",
   "metadata": {},
   "source": [
    "# Test snippets"
   ]
  },
  {
   "cell_type": "code",
   "execution_count": 1,
   "id": "c5f946c6",
   "metadata": {},
   "outputs": [],
   "source": [
    "# import the libraries\n",
    "import telnetlib, datetime, time, csv\n",
    "import numpy as np\n",
    "import pyrpl\n",
    "from pathlib import Path\n",
    "\n",
    "timestamp = datetime.datetime.now().strftime(\"%Y-%m-%d %H:%M:%S\")\n",
    "path = Path.home().as_posix()\n",
    "full_path = Path(path+'/Dropbox (CoQuMa)/LabNotes/NaKa/'+timestamp[:7]+'/'+timestamp[:10]+'/')"
   ]
  },
  {
   "cell_type": "markdown",
   "id": "fc123514",
   "metadata": {},
   "source": [
    "## Ramp the laser power according to an array of voltages "
   ]
  },
  {
   "cell_type": "code",
   "execution_count": 41,
   "id": "71e180a5",
   "metadata": {},
   "outputs": [
    {
     "name": "stderr",
     "output_type": "stream",
     "text": [
      "ERROR:pyrpl.redpitaya_client:Error occured in reading attempt 0. Reconnecting at addr 0x40100014 to _reads value 1 by client 247\n",
      "ERROR:pyrpl.redpitaya_client:Error occured in reading attempt 0. Reconnecting at addr 0x40100014 to _reads value 1 by client 248\n",
      "ERROR:pyrpl.redpitaya_client:Error occured in reading attempt 0. Reconnecting at addr 0x40100014 to _reads value 1 by client 249\n"
     ]
    }
   ],
   "source": [
    "# set up the ramping details and run the cell below\n",
    "start = 0.1 # in V\n",
    "stop = 3\n",
    "step = 0.1\n",
    "ramp = np.arange(start, stop+step, step)\n",
    "\n",
    "# set the duration of the ramping steps or...\n",
    "delay = 10 # in seconds\n",
    "total_time = len(ramp) * delay\n",
    "\n",
    "# ...the total ramping time\n",
    "# total_time = 600 # in seconds\n",
    "# delay = total_time / len(ramp)"
   ]
  },
  {
   "cell_type": "code",
   "execution_count": 42,
   "id": "26c73663",
   "metadata": {},
   "outputs": [
    {
     "name": "stdout",
     "output_type": "stream",
     "text": [
      "START :  2021-11-16 17:02:37\n",
      "Current setpoint : 3.0 V -- Time remaining :   1 s\n",
      "STOP :  2021-11-16 17:06:10\n"
     ]
    },
    {
     "name": "stderr",
     "output_type": "stream",
     "text": [
      "ERROR:pyrpl.redpitaya_client:Error occured in reading attempt 0. Reconnecting at addr 0x40100014 to _reads value 1 by client 250\n",
      "ERROR:pyrpl.redpitaya_client:Error occured in reading attempt 0. Reconnecting at addr 0x40100014 to _reads value 1 by client 251\n",
      "ERROR:pyrpl.redpitaya_client:Error occured in reading attempt 0. Reconnecting at addr 0x40300100 to _reads value 1 by client 252\n",
      "ERROR:pyrpl.redpitaya_client:Error occured in reading attempt 0. Reconnecting at addr 0x40100014 to _reads value 1 by client 253\n",
      "ERROR:pyrpl.redpitaya_client:Error occured in reading attempt 0. Reconnecting at addr 0x40300100 to _reads value 1 by client 254\n",
      "ERROR:pyrpl.redpitaya_client:Error occured in reading attempt 0. Reconnecting at addr 0x40100014 to _reads value 1 by client 255\n",
      "ERROR:pyrpl.redpitaya_client:Error occured in reading attempt 0. Reconnecting at addr 0x40100014 to _reads value 1 by client 256\n",
      "ERROR:pyrpl.redpitaya_client:Error occured in reading attempt 0. Reconnecting at addr 0x40100014 to _reads value 1 by client 257\n",
      "ERROR:pyrpl.redpitaya_client:Error occured in reading attempt 0. Reconnecting at addr 0x40300100 to _reads value 1 by client 258\n",
      "ERROR:pyrpl.redpitaya_client:Error occured in reading attempt 0. Reconnecting at addr 0x40100014 to _reads value 1 by client 259\n",
      "ERROR:pyrpl.redpitaya_client:Error occured in reading attempt 0. Reconnecting at addr 0x40100014 to _reads value 1 by client 260\n",
      "ERROR:pyrpl.redpitaya_client:Error occured in reading attempt 0. Reconnecting at addr 0x40100014 to _reads value 1 by client 261\n",
      "ERROR:pyrpl.redpitaya_client:Error occured in reading attempt 0. Reconnecting at addr 0x40300100 to _reads value 1 by client 262\n",
      "ERROR:pyrpl.redpitaya_client:Error occured in reading attempt 0. Reconnecting at addr 0x40100014 to _reads value 1 by client 263\n",
      "ERROR:pyrpl.redpitaya_client:Error occured in reading attempt 0. Reconnecting at addr 0x40100014 to _reads value 1 by client 264\n",
      "ERROR:pyrpl.redpitaya_client:Error occured in reading attempt 0. Reconnecting at addr 0x40100014 to _reads value 1 by client 265\n",
      "ERROR:pyrpl.redpitaya_client:Error occured in reading attempt 0. Reconnecting at addr 0x40300100 to _reads value 1 by client 266\n",
      "ERROR:pyrpl.redpitaya_client:Error occured in reading attempt 0. Reconnecting at addr 0x40100014 to _reads value 1 by client 267\n",
      "ERROR:pyrpl.redpitaya_client:Error occured in reading attempt 0. Reconnecting at addr 0x40100014 to _reads value 1 by client 268\n",
      "ERROR:pyrpl.redpitaya_client:Error occured in reading attempt 0. Reconnecting at addr 0x40100014 to _reads value 1 by client 269\n",
      "ERROR:pyrpl.redpitaya_client:Error occured in reading attempt 0. Reconnecting at addr 0x40300100 to _reads value 1 by client 270\n",
      "ERROR:pyrpl.redpitaya_client:Error occured in reading attempt 0. Reconnecting at addr 0x40100014 to _reads value 1 by client 271\n",
      "ERROR:pyrpl.redpitaya_client:Error occured in reading attempt 0. Reconnecting at addr 0x40100014 to _reads value 1 by client 272\n",
      "ERROR:pyrpl.redpitaya_client:Error occured in reading attempt 0. Reconnecting at addr 0x40100014 to _reads value 1 by client 273\n",
      "ERROR:pyrpl.redpitaya_client:Error occured in reading attempt 0. Reconnecting at addr 0x40100014 to _reads value 1 by client 274\n",
      "ERROR:pyrpl.redpitaya_client:Error occured in reading attempt 0. Reconnecting at addr 0x40100014 to _reads value 1 by client 275\n",
      "ERROR:pyrpl.redpitaya_client:Error occured in reading attempt 0. Reconnecting at addr 0x40100014 to _reads value 1 by client 276\n",
      "ERROR:pyrpl.redpitaya_client:Error occured in reading attempt 0. Reconnecting at addr 0x40100014 to _reads value 1 by client 277\n",
      "ERROR:pyrpl.redpitaya_client:Error occured in reading attempt 0. Reconnecting at addr 0x40100014 to _reads value 1 by client 278\n",
      "ERROR:pyrpl.redpitaya_client:Error occured in reading attempt 0. Reconnecting at addr 0x40100014 to _reads value 1 by client 279\n",
      "ERROR:pyrpl.redpitaya_client:Error occured in reading attempt 0. Reconnecting at addr 0x40300100 to _reads value 1 by client 280\n",
      "ERROR:pyrpl.redpitaya_client:Error occured in reading attempt 0. Reconnecting at addr 0x40100014 to _reads value 1 by client 281\n",
      "ERROR:pyrpl.redpitaya_client:Error occured in reading attempt 0. Reconnecting at addr 0x40100014 to _reads value 1 by client 282\n",
      "ERROR:pyrpl.redpitaya_client:Error occured in reading attempt 0. Reconnecting at addr 0x40100014 to _reads value 1 by client 283\n",
      "ERROR:pyrpl.redpitaya_client:Error occured in reading attempt 0. Reconnecting at addr 0x40300100 to _reads value 1 by client 284\n",
      "ERROR:pyrpl.redpitaya_client:Error occured in reading attempt 0. Reconnecting at addr 0x40100014 to _reads value 1 by client 285\n",
      "ERROR:pyrpl.redpitaya_client:Error occured in reading attempt 0. Reconnecting at addr 0x40100014 to _reads value 1 by client 286\n",
      "ERROR:pyrpl.redpitaya_client:Error occured in reading attempt 0. Reconnecting at addr 0x40100014 to _reads value 1 by client 287\n",
      "ERROR:pyrpl.redpitaya_client:Error occured in reading attempt 0. Reconnecting at addr 0x40300100 to _reads value 1 by client 288\n",
      "ERROR:pyrpl.redpitaya_client:Error occured in reading attempt 0. Reconnecting at addr 0x40100014 to _reads value 1 by client 289\n",
      "ERROR:pyrpl.redpitaya_client:Error occured in reading attempt 0. Reconnecting at addr 0x40100014 to _reads value 1 by client 290\n",
      "ERROR:pyrpl.redpitaya_client:Error occured in reading attempt 0. Reconnecting at addr 0x40100014 to _reads value 1 by client 291\n",
      "ERROR:pyrpl.redpitaya_client:Error occured in reading attempt 0. Reconnecting at addr 0x40300100 to _reads value 1 by client 292\n",
      "ERROR:pyrpl.redpitaya_client:Error occured in reading attempt 0. Reconnecting at addr 0x40100014 to _reads value 1 by client 293\n",
      "ERROR:pyrpl.redpitaya_client:Error occured in reading attempt 0. Reconnecting at addr 0x40100014 to _reads value 1 by client 294\n",
      "ERROR:pyrpl.redpitaya_client:Error occured in reading attempt 0. Reconnecting at addr 0x40100014 to _reads value 1 by client 295\n",
      "ERROR:pyrpl.redpitaya_client:Error occured in reading attempt 0. Reconnecting at addr 0x40300100 to _reads value 1 by client 296\n",
      "ERROR:pyrpl.redpitaya_client:Error occured in reading attempt 0. Reconnecting at addr 0x40100014 to _reads value 1 by client 297\n",
      "ERROR:pyrpl.redpitaya_client:Error occured in reading attempt 0. Reconnecting at addr 0x40100014 to _reads value 1 by client 298\n",
      "ERROR:pyrpl.redpitaya_client:Error occured in reading attempt 0. Reconnecting at addr 0x40100014 to _reads value 1 by client 299\n",
      "ERROR:pyrpl.redpitaya_client:Error occured in reading attempt 0. Reconnecting at addr 0x40100014 to _reads value 1 by client 300\n",
      "ERROR:pyrpl.redpitaya_client:Error occured in reading attempt 0. Reconnecting at addr 0x40100014 to _reads value 1 by client 301\n",
      "ERROR:pyrpl.redpitaya_client:Error occured in reading attempt 0. Reconnecting at addr 0x40100014 to _reads value 1 by client 302\n"
     ]
    }
   ],
   "source": [
    "session = telnetlib.Telnet('10.0.2.214')        # start telnet session\n",
    "print('START : ', datetime.datetime.now().strftime(\"%Y-%m-%d %H:%M:%S\"))\n",
    "\n",
    "timestamp = datetime.datetime.now().strftime(\"%Y-%m-%d %H:%M:%S\")\n",
    "path = Path.home().as_posix()\n",
    "full_path = Path(path+'/Dropbox (CoQuMa)/LabNotes/NaKa/'+timestamp[:7]+'/'+timestamp[:10]+'/')\n",
    "\n",
    "for voltage in ramp:\n",
    "    session.write(bytes('ls_tool edfa_set_phdout edfa1 ' + str(voltage) + '\\n', 'utf-8'))\n",
    "    session.read_until(b'pid_setpoint = ')\n",
    "    setpoint = session.read_until(b'\\n').decode('utf-8')\n",
    "    \n",
    "    EDFA = float(setpoint) * 2.999725 / 39321.6\n",
    "                \n",
    "    timestamp = datetime.datetime.now().strftime(\"%Y-%m-%d %H:%M:%S\")\n",
    "    data = {'updated' : timestamp }\n",
    "    data['EDFA'] = np.round(EDFA,6)\n",
    "    \n",
    "    try :\n",
    "        with open(str(full_path)+'\\\\klaser'+'_'+timestamp[:10]+'.csv', 'a',newline='', encoding='UTF8') as f:\n",
    "            writer = csv.writer(f)\n",
    "            writer.writerow([value for key, value in data.items()])\n",
    "            f.close()\n",
    "    except FileNotFoundError : \n",
    "        with open(Path.cwd().as_posix()+'\\\\data\\\\klaser'+'_'+timestamp[:10]+'.csv','a',newline='', encoding='UTF8') as f:\n",
    "            writer = csv.writer(f)\n",
    "            writer.writerow([value for key, value in data.items()])\n",
    "            f.close()\n",
    "            \n",
    "    step_time = 0\n",
    "    while step_time < delay:\n",
    "        print('Current setpoint : ' + str(np.round(voltage,3)) + ' V -- Time remaining : ' + str(total_time).rjust(3) + ' s')\n",
    "        total_time -= 1\n",
    "        step_time += 1\n",
    "        time.sleep(1)\n",
    "\n",
    "session.write(b'exit\\n')\n",
    "session.close()\n",
    "\n",
    "print('\\nSTOP : ', datetime.datetime.now().strftime(\"%Y-%m-%d %H:%M:%S\"))"
   ]
  },
  {
   "cell_type": "markdown",
   "id": "7b456588",
   "metadata": {},
   "source": [
    "## Detune the laser light with setting the PID at the Redpitaya"
   ]
  },
  {
   "cell_type": "code",
   "execution_count": 47,
   "id": "98e80f17",
   "metadata": {},
   "outputs": [
    {
     "name": "stderr",
     "output_type": "stream",
     "text": [
      "INFO:pyrpl:All your PyRPL settings will be saved to the config file\n",
      "    C:\\Users\\NaKaControl\\pyrpl_user_dir\\config\\111.yml\n",
      "If you would like to restart PyRPL with these settings, type \"pyrpl.exe 111\" in a windows terminal or \n",
      "    from pyrpl import Pyrpl\n",
      "    p = Pyrpl('111')\n",
      "in a python terminal.\n",
      "INFO:pyrpl.redpitaya:Successfully connected to Redpitaya with hostname 10.0.2.111.\n",
      "ERROR:pyrpl.redpitaya_client:Error occured in reading attempt 0. Reconnecting at addr 0x40100014 to _reads value 1 by client 449\n",
      "ERROR:pyrpl.redpitaya_client:Error occured in reading attempt 0. Reconnecting at addr 0x40100014 to _reads value 1 by client 447\n",
      "ERROR:pyrpl.redpitaya_client:Error occured in reading attempt 0. Reconnecting at addr 0x40100014 to _reads value 1 by client 450\n",
      "ERROR:pyrpl.redpitaya_client:Error occured in reading attempt 0. Reconnecting at addr 0x40100014 to _reads value 1 by client 451\n",
      "ERROR:pyrpl.redpitaya_client:Error occured in reading attempt 0. Reconnecting at addr 0x40100014 to _reads value 1 by client 452\n",
      "ERROR:pyrpl.redpitaya_client:Error occured in reading attempt 0. Reconnecting at addr 0x40100014 to _reads value 1 by client 454\n",
      "ERROR:pyrpl.redpitaya_client:Error occured in reading attempt 0. Reconnecting at addr 0x40100014 to _reads value 1 by client 455\n",
      "ERROR:pyrpl.redpitaya_client:Error occured in reading attempt 0. Reconnecting at addr 0x40100014 to _reads value 1 by client 456\n",
      "ERROR:pyrpl.redpitaya_client:Error occured in reading attempt 0. Reconnecting at addr 0x40100014 to _reads value 1 by client 453\n",
      "ERROR:pyrpl.redpitaya_client:Error occured in reading attempt 0. Reconnecting at addr 0x40320100 to _reads value 1 by client 458\n",
      "ERROR:pyrpl.redpitaya_client:Error occured in reading attempt 0. Reconnecting at addr 0x40100014 to _reads value 1 by client 460\n",
      "ERROR:pyrpl.redpitaya_client:Error occured in reading attempt 0. Reconnecting at addr 0x40100014 to _reads value 1 by client 457\n",
      "ERROR:pyrpl.redpitaya_client:Error occured in reading attempt 0. Reconnecting at addr 0x40100014 to _reads value 1 by client 461\n",
      "ERROR:pyrpl.redpitaya_client:Error occured in reading attempt 0. Reconnecting at addr 0x40100014 to _reads value 1 by client 459\n",
      "ERROR:pyrpl.redpitaya_client:Error occured in reading attempt 0. Reconnecting at addr 0x40320100 to _reads value 1 by client 464\n",
      "ERROR:pyrpl.redpitaya_client:Error occured in reading attempt 0. Reconnecting at addr 0x40100014 to _reads value 1 by client 462\n",
      "ERROR:pyrpl.redpitaya_client:Error occured in reading attempt 0. Reconnecting at addr 0x40100014 to _reads value 1 by client 463\n",
      "ERROR:pyrpl.redpitaya_client:Error occured in reading attempt 0. Reconnecting at addr 0x40100014 to _reads value 1 by client 465\n",
      "ERROR:pyrpl.redpitaya_client:Error occured in reading attempt 0. Reconnecting at addr 0x40310100 to _reads value 1 by client 466\n",
      "ERROR:pyrpl.redpitaya_client:Error occured in reading attempt 0. Reconnecting at addr 0x40100014 to _reads value 1 by client 469\n",
      "ERROR:pyrpl.redpitaya_client:Error occured in reading attempt 0. Reconnecting at addr 0x40100014 to _reads value 1 by client 470\n",
      "ERROR:pyrpl.redpitaya_client:Error occured in reading attempt 0. Reconnecting at addr 0x40100014 to _reads value 1 by client 468\n",
      "ERROR:pyrpl.redpitaya_client:Error occured in reading attempt 0. Reconnecting at addr 0x40100014 to _reads value 1 by client 467\n",
      "ERROR:pyrpl.redpitaya_client:Error occured in reading attempt 0. Reconnecting at addr 0x40300100 to _reads value 1 by client 472\n",
      "ERROR:pyrpl.redpitaya_client:Error occured in reading attempt 0. Reconnecting at addr 0x40100014 to _reads value 1 by client 474\n",
      "ERROR:pyrpl.redpitaya_client:Error occured in reading attempt 0. Reconnecting at addr 0x40100014 to _reads value 1 by client 475\n",
      "ERROR:pyrpl.redpitaya_client:Error occured in reading attempt 0. Reconnecting at addr 0x40100014 to _reads value 1 by client 473\n",
      "ERROR:pyrpl.redpitaya_client:Error occured in reading attempt 0. Reconnecting at addr 0x40100014 to _reads value 1 by client 471\n",
      "ERROR:pyrpl.redpitaya_client:Error occured in reading attempt 0. Reconnecting at addr 0x40300100 to _reads value 1 by client 477\n",
      "ERROR:pyrpl.redpitaya_client:Error occured in reading attempt 0. Reconnecting at addr 0x40100014 to _reads value 1 by client 478\n",
      "ERROR:pyrpl.redpitaya_client:Error occured in reading attempt 0. Reconnecting at addr 0x40100014 to _reads value 1 by client 479\n",
      "ERROR:pyrpl.redpitaya_client:Error occured in reading attempt 0. Reconnecting at addr 0x40100014 to _reads value 1 by client 476\n",
      "ERROR:pyrpl.redpitaya_client:Error occured in reading attempt 0. Reconnecting at addr 0x40100014 to _reads value 1 by client 480\n",
      "ERROR:pyrpl.redpitaya_client:Error occured in reading attempt 0. Reconnecting at addr 0x40100014 to _reads value 1 by client 481\n",
      "ERROR:pyrpl.redpitaya_client:Error occured in reading attempt 0. Reconnecting at addr 0x40100014 to _reads value 1 by client 482\n",
      "ERROR:pyrpl.redpitaya_client:Error occured in reading attempt 0. Reconnecting at addr 0x40100014 to _reads value 1 by client 483\n",
      "ERROR:pyrpl.redpitaya_client:Error occured in reading attempt 0. Reconnecting at addr 0x40100014 to _reads value 1 by client 484\n",
      "ERROR:pyrpl.redpitaya_client:Error occured in reading attempt 0. Reconnecting at addr 0x40100014 to _reads value 1 by client 486\n",
      "ERROR:pyrpl.redpitaya_client:Error occured in reading attempt 0. Reconnecting at addr 0x40100014 to _reads value 1 by client 487\n",
      "ERROR:pyrpl.redpitaya_client:Error occured in reading attempt 0. Reconnecting at addr 0x40100014 to _reads value 1 by client 485\n",
      "ERROR:pyrpl.redpitaya_client:Error occured in reading attempt 0. Reconnecting at addr 0x40320100 to _reads value 1 by client 488\n",
      "ERROR:pyrpl.redpitaya_client:Error occured in reading attempt 0. Reconnecting at addr 0x40100014 to _reads value 1 by client 491\n",
      "ERROR:pyrpl.redpitaya_client:Error occured in reading attempt 0. Reconnecting at addr 0x40100014 to _reads value 1 by client 492\n",
      "ERROR:pyrpl.redpitaya_client:Error occured in reading attempt 0. Reconnecting at addr 0x40100014 to _reads value 1 by client 489\n",
      "ERROR:pyrpl.redpitaya_client:Error occured in reading attempt 0. Reconnecting at addr 0x40100014 to _reads value 1 by client 490\n",
      "ERROR:pyrpl.redpitaya_client:Error occured in reading attempt 0. Reconnecting at addr 0x40310100 to _reads value 1 by client 494\n",
      "ERROR:pyrpl.redpitaya_client:Error occured in reading attempt 0. Reconnecting at addr 0x40100014 to _reads value 1 by client 493\n",
      "ERROR:pyrpl.redpitaya_client:Error occured in reading attempt 0. Reconnecting at addr 0x40100014 to _reads value 1 by client 495\n",
      "ERROR:pyrpl.redpitaya_client:Error occured in reading attempt 0. Reconnecting at addr 0x40100014 to _reads value 1 by client 496\n",
      "ERROR:pyrpl.redpitaya_client:Error occured in reading attempt 0. Reconnecting at addr 0x40100014 to _reads value 1 by client 498\n",
      "ERROR:pyrpl.redpitaya_client:Error occured in reading attempt 0. Reconnecting at addr 0x40300100 to _reads value 1 by client 497\n",
      "ERROR:pyrpl.redpitaya_client:Error occured in reading attempt 0. Reconnecting at addr 0x40100014 to _reads value 1 by client 500\n",
      "ERROR:pyrpl.redpitaya_client:Error occured in reading attempt 0. Reconnecting at addr 0x40100014 to _reads value 1 by client 502\n",
      "ERROR:pyrpl.redpitaya_client:Error occured in reading attempt 0. Reconnecting at addr 0x40100014 to _reads value 1 by client 501\n",
      "ERROR:pyrpl.redpitaya_client:Error occured in reading attempt 0. Reconnecting at addr 0x40100014 to _reads value 1 by client 499\n",
      "ERROR:pyrpl.redpitaya_client:Error occured in reading attempt 0. Reconnecting at addr 0x40300100 to _reads value 1 by client 504\n",
      "ERROR:pyrpl.redpitaya_client:Error occured in reading attempt 0. Reconnecting at addr 0x40100014 to _reads value 1 by client 505\n",
      "ERROR:pyrpl.redpitaya_client:Error occured in reading attempt 0. Reconnecting at addr 0x40300100 to _reads value 1 by client 507\n",
      "ERROR:pyrpl.redpitaya_client:Error occured in reading attempt 0. Reconnecting at addr 0x40100014 to _reads value 1 by client 506\n"
     ]
    }
   ],
   "source": [
    "# connect to the redpitaya and create Redpitaya instance\n",
    "p = pyrpl.Pyrpl(hostname='10.0.2.111', config='111.yml'); r = p.rp"
   ]
  },
  {
   "cell_type": "code",
   "execution_count": null,
   "id": "13aa1434",
   "metadata": {},
   "outputs": [],
   "source": [
    "print(r.pid0.setup())"
   ]
  },
  {
   "cell_type": "code",
   "execution_count": 46,
   "id": "a159a40b",
   "metadata": {},
   "outputs": [
    {
     "name": "stderr",
     "output_type": "stream",
     "text": [
      "ERROR:pyrpl.redpitaya_client:Error occured in reading attempt 0. Reconnecting at addr 0x40100014 to _reads value 1 by client 419\n",
      "ERROR:pyrpl.redpitaya_client:Error occured in reading attempt 0. Reconnecting at addr 0x40100014 to _reads value 1 by client 420\n",
      "ERROR:pyrpl.redpitaya_client:Error occured in reading attempt 0. Reconnecting at addr 0x40100014 to _reads value 1 by client 421\n",
      "ERROR:pyrpl.redpitaya_client:Error occured in reading attempt 0. Reconnecting at addr 0x40100014 to _reads value 1 by client 422\n",
      "ERROR:pyrpl.redpitaya_client:Error occured in reading attempt 0. Reconnecting at addr 0x40100014 to _reads value 1 by client 423\n",
      "ERROR:pyrpl.redpitaya_client:Error occured in reading attempt 0. Reconnecting at addr 0x40100014 to _reads value 1 by client 424\n",
      "ERROR:pyrpl.redpitaya_client:Error occured in reading attempt 0. Reconnecting at addr 0x40300100 to _reads value 1 by client 426\n",
      "ERROR:pyrpl.redpitaya_client:Error occured in reading attempt 0. Reconnecting at addr 0x40100014 to _reads value 1 by client 425\n",
      "ERROR:pyrpl.redpitaya_client:Error occured in reading attempt 0. Reconnecting at addr 0x40100014 to _reads value 1 by client 428\n",
      "ERROR:pyrpl.redpitaya_client:Error occured in reading attempt 0. Reconnecting at addr 0x40100014 to _reads value 1 by client 427\n",
      "ERROR:pyrpl.redpitaya_client:Error occured in reading attempt 0. Reconnecting at addr 0x40300100 to _reads value 1 by client 430\n",
      "ERROR:pyrpl.redpitaya_client:Error occured in reading attempt 0. Reconnecting at addr 0x40100014 to _reads value 1 by client 429\n",
      "ERROR:pyrpl.redpitaya_client:Error occured in reading attempt 0. Reconnecting at addr 0x40100014 to _reads value 1 by client 432\n",
      "ERROR:pyrpl.redpitaya_client:Error occured in reading attempt 0. Reconnecting at addr 0x40100014 to _reads value 1 by client 431\n",
      "ERROR:pyrpl.redpitaya_client:Error occured in reading attempt 0. Reconnecting at addr 0x40300100 to _reads value 1 by client 434\n",
      "ERROR:pyrpl.redpitaya_client:Error occured in reading attempt 0. Reconnecting at addr 0x40100014 to _reads value 1 by client 435\n",
      "ERROR:pyrpl.redpitaya_client:Error occured in reading attempt 0. Reconnecting at addr 0x40100014 to _reads value 1 by client 433\n",
      "ERROR:pyrpl.redpitaya_client:Error occured in reading attempt 0. Reconnecting at addr 0x40100014 to _reads value 1 by client 436\n",
      "ERROR:pyrpl.redpitaya_client:Error occured in reading attempt 0. Reconnecting at addr 0x40100014 to _reads value 1 by client 437\n",
      "ERROR:pyrpl.redpitaya_client:Error occured in reading attempt 0. Reconnecting at addr 0x40100014 to _reads value 1 by client 438\n",
      "ERROR:pyrpl.redpitaya_client:Error occured in reading attempt 0. Reconnecting at addr 0x40100014 to _reads value 1 by client 439\n",
      "ERROR:pyrpl.redpitaya_client:Error occured in reading attempt 0. Reconnecting at addr 0x40100014 to _reads value 1 by client 440\n",
      "ERROR:pyrpl.redpitaya_client:Error occured in reading attempt 0. Reconnecting at addr 0x40100014 to _reads value 1 by client 441\n",
      "ERROR:pyrpl.redpitaya_client:Error occured in reading attempt 0. Reconnecting at addr 0x40100014 to _reads value 1 by client 442\n",
      "ERROR:pyrpl.redpitaya_client:Error occured in reading attempt 0. Reconnecting at addr 0x40100014 to _reads value 1 by client 443\n",
      "ERROR:pyrpl.redpitaya_client:Error occured in reading attempt 0. Reconnecting at addr 0x40100014 to _reads value 1 by client 444\n",
      "ERROR:pyrpl.redpitaya_client:Error occured in reading attempt 0. Reconnecting at addr 0x40100014 to _reads value 1 by client 446\n",
      "ERROR:pyrpl.redpitaya_client:Error occured in reading attempt 0. Reconnecting at addr 0x40100014 to _reads value 1 by client 445\n",
      "ERROR:pyrpl.redpitaya_client:Error occured in reading attempt 0. Reconnecting at addr 0x40100014 to _reads value 1 by client 448\n"
     ]
    }
   ],
   "source": [
    "# shortcut to save data\n",
    "def save_data(data):\n",
    "    path = Path.home().as_posix()\n",
    "    full_path = Path(path+'/Dropbox (CoQuMa)/LabNotes/NaKa/'+timestamp[:7]+'/'+timestamp[:10]+'/')\n",
    "    \n",
    "    try:\n",
    "        with open(str(full_path)+'\\\\redpitaya_'+timestamp[:10]+'.csv', 'a',newline='', encoding='UTF8') as f:\n",
    "            writer = csv.writer(f)\n",
    "            writer.writerow(data)\n",
    "    except FileNotFoundError :\n",
    "        with open(Path.cwd().as_posix()+'\\\\data\\\\redpitaya_'+timestamp[:10]+'.csv', 'a',newline='', encoding='UTF8') as f:\n",
    "            writer = csv.writer(f)\n",
    "            writer.writerow(data)"
   ]
  },
  {
   "cell_type": "markdown",
   "id": "09a6eb60",
   "metadata": {},
   "source": [
    "### Saving data only"
   ]
  },
  {
   "cell_type": "code",
   "execution_count": null,
   "id": "c69e40a8",
   "metadata": {},
   "outputs": [
    {
     "name": "stderr",
     "output_type": "stream",
     "text": [
      "ERROR:pyrpl.redpitaya_client:Error occured in reading attempt 0. Reconnecting at addr 0x40100154 to _reads value 1 by client 509\n"
     ]
    }
   ],
   "source": [
    "# just keep track of the lock...\n",
    "while True:\n",
    "    now = datetime.datetime.now()\n",
    "    timestamp = now.strftime(\"%Y-%m-%d %H:%M:%S\")\n",
    "    \n",
    "    data = [ timestamp, np.round(r.scope.voltage_in1,3), np.round(r.pid0.setpoint,3) ]\n",
    "    save_data(data)\n",
    "    \n",
    "    if -1 > r.scope.voltage_in1 or 1 < r.scope.voltage_in1 : slack_alert()\n",
    "    \n",
    "    time.sleep(5)"
   ]
  },
  {
   "cell_type": "markdown",
   "id": "047c431d",
   "metadata": {},
   "source": [
    "### Doing the actual ramping/measurement"
   ]
  },
  {
   "cell_type": "code",
   "execution_count": 32,
   "id": "c0c240f2",
   "metadata": {},
   "outputs": [],
   "source": [
    "# create an array of detuning and run the cell below\n",
    "start = -1 # in V\n",
    "stop = 1\n",
    "step = 0.01\n",
    "ramp = np.arange(start, stop+step, step)\n",
    "\n",
    "# set the duration of the ramping steps or...\n",
    "delay = 0.5 # in seconds\n",
    "total_time = len(ramp) * delay\n",
    "\n",
    "# ...the total ramping time\n",
    "# total_time = 600 # in seconds\n",
    "# delay = total_time / len(ramp)"
   ]
  },
  {
   "cell_type": "code",
   "execution_count": 33,
   "id": "3713bb58",
   "metadata": {},
   "outputs": [
    {
     "name": "stdout",
     "output_type": "stream",
     "text": [
      "START :  2021-11-16 12:09:57\n",
      "STOP :  2021-11-16 12:13:220000000018 V -- Time remaining : -99.5 ss\n"
     ]
    }
   ],
   "source": [
    "restore = r.pid0.setpoint\n",
    "print('START : ', datetime.datetime.now().strftime(\"%Y-%m-%d %H:%M:%S\"))\n",
    "\n",
    "# go through the ramp\n",
    "for setpoint in ramp:\n",
    "    r.pid0.setpoint = setpoint\n",
    "\n",
    "    step_time = 0\n",
    "    while step_time < delay:\n",
    "        now = datetime.datetime.now()\n",
    "        timestamp = now.strftime(\"%Y-%m-%d %H:%M:%S\")\n",
    "        \n",
    "        data = [ timestamp, np.round(r.scope.voltage_in1,3), np.round(r.pid0.setpoint,3) ]\n",
    "        save_data(data)\n",
    "        \n",
    "        print('Current setpoint : ' + str(setpoint) + ' V -- Time remaining : ' + str(total_time).rjust(3) + ' s', end='\\r')\n",
    "        total_time -= 1\n",
    "        step_time += 1\n",
    "        time.sleep(1)\n",
    "        \n",
    "print('STOP : ', datetime.datetime.now().strftime(\"%Y-%m-%d %H:%M:%S\"))\n",
    "\n",
    "# restore previous settings\n",
    "r.pid0.setpoint = restore"
   ]
  },
  {
   "cell_type": "markdown",
   "id": "fb077ab8",
   "metadata": {},
   "source": [
    "### Include the SlackBot here...?"
   ]
  },
  {
   "cell_type": "code",
   "execution_count": null,
   "id": "3bc6b7d6",
   "metadata": {},
   "outputs": [],
   "source": [
    "def slack_alert():\n",
    "    redirect_url = \"https://hydra.kip.uni-heidelberg.de:8443/f21server/#/\"\n",
    "    text = \":fire: ALERT!!! \\n The laser is out of lock! Check the NaKaControl\"\n",
    "    channel_id = \"C02F1MWPLM7\" # naka_laserlock channel\n",
    "    url = \"https://slack.com/api/chat.postMessage\"\n",
    "    payload = {\n",
    "        \"channel\": \"C02F1MWPLM7\",\n",
    "        #\"text\": \"\",\n",
    "        \"attachments\": [{\n",
    "            \"text\": text,\n",
    "            \"color\": \"#ad1721\",\n",
    "            \"attachment_type\": \"default\",\n",
    "            \"actions\": [\n",
    "                {\n",
    "                    \"name\": \"Take me there!\",\n",
    "                    \"text\": \"Take me there!\",\n",
    "                    \"type\": \"button\",\n",
    "                    \"style\": \"primary\",\n",
    "                    \"url\": redirect_url\n",
    "                },\n",
    "            ]\n",
    "            }]\n",
    "        }\n",
    "    headers = { \n",
    "        \"Content-type\" : \"application/json\",\n",
    "        \"Authorization\" : \"Bearer \" + Slackbot.bot_token,\n",
    "    }\n",
    "    \n",
    "    r = requests.post(url, json=payload, headers=headers)\n",
    "    print(r.text)"
   ]
  }
 ],
 "metadata": {
  "kernelspec": {
   "display_name": "Python 3",
   "language": "python",
   "name": "python3"
  },
  "language_info": {
   "codemirror_mode": {
    "name": "ipython",
    "version": 3
   },
   "file_extension": ".py",
   "mimetype": "text/x-python",
   "name": "python",
   "nbconvert_exporter": "python",
   "pygments_lexer": "ipython3",
   "version": "3.9.7"
  }
 },
 "nbformat": 4,
 "nbformat_minor": 5
}
