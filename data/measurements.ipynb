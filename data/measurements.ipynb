{
 "cells": [
  {
   "cell_type": "markdown",
   "id": "d7809ca7",
   "metadata": {},
   "source": [
    "# Test snippets"
   ]
  },
  {
   "cell_type": "code",
   "execution_count": 1,
   "id": "c5f946c6",
   "metadata": {},
   "outputs": [],
   "source": [
    "# import the libraries\n",
    "import telnetlib, datetime, time, csv\n",
    "import numpy as np\n",
    "import pyrpl\n",
    "from pathlib import Path\n",
    "\n",
    "timestamp = datetime.datetime.now().strftime(\"%Y-%m-%d %H:%M:%S\")\n",
    "path = Path.home().as_posix()\n",
    "full_path = Path(path+'/Dropbox (CoQuMa)/LabNotes/NaKa/'+timestamp[:7]+'/'+timestamp[:10]+'/')"
   ]
  },
  {
   "cell_type": "markdown",
   "id": "da905c88",
   "metadata": {},
   "source": [
    "## Ramp the laser power according to an array of voltages "
   ]
  },
  {
   "cell_type": "code",
   "execution_count": null,
   "id": "71e180a5",
   "metadata": {},
   "outputs": [],
   "source": [
    "# set up the ramping details and run the cell below\n",
    "start = 1 # in V\n",
    "stop = 3\n",
    "step = 0.1\n",
    "ramp = np.arange(start, stop+step, step)\n",
    "\n",
    "# set the duration of the ramping steps or...\n",
    "delay = 10 # in seconds\n",
    "total_time = len(ramp) * delay\n",
    "\n",
    "# ...the total ramping time\n",
    "# total_time = 600 # in seconds\n",
    "# delay = total_time / len(ramp)"
   ]
  },
  {
   "cell_type": "code",
   "execution_count": null,
   "id": "26c73663",
   "metadata": {},
   "outputs": [],
   "source": [
    "session = telnetlib.Telnet('10.0.2.214')        # start telnet session\n",
    "\n",
    "for voltage in ramp:\n",
    "    session.write(bytes('ls_tool edfa_set_phdout edfa1 ' + str(voltage) + '\\n', 'utf-8'))\n",
    "    session.read_until(b'pid_setpoint = ')\n",
    "    setpoint = session.read_until(b'\\n').decode('utf-8')\n",
    "    \n",
    "    EDFA = float(setpoint) * 2.999725 / 39321.6\n",
    "                \n",
    "    timestamp = datetime.datetime.now().strftime(\"%Y-%m-%d %H:%M:%S\")\n",
    "    data = {'updated' : timestamp }\n",
    "    data['EDFA'] = np.round(EDFA,6)\n",
    "    \n",
    "    try :\n",
    "        with open(str(full_path)+'\\\\klaser'+'_'+timestamp[:10]+'.csv', 'a',newline='', encoding='UTF8') as f:\n",
    "            writer = csv.writer(f)\n",
    "            writer.writerow([value for key, value in data.items()])\n",
    "            f.close()\n",
    "    except FileNotFoundError : \n",
    "        with open(Path.cwd().as_posix()+'\\\\data\\\\klaser'+'_'+timestamp[:10]+'.csv','a',newline='', encoding='UTF8') as f:\n",
    "            writer = csv.writer(f)\n",
    "            writer.writerow([value for key, value in data.items()])\n",
    "            f.close()\n",
    "            \n",
    "    step_time = 0\n",
    "    while step_time < delay:\n",
    "        print('Current setpoint : ' + str(np.round(voltage,3)) + ' V -- Time remaining : ' + str(total_time).rjust(3) + ' s', end='\\r')\n",
    "        total_time -= 1\n",
    "        step_time += 1\n",
    "        time.sleep(1)\n",
    "\n",
    "session.write(b'exit\\n')\n",
    "session.close()"
   ]
  },
  {
   "cell_type": "markdown",
   "id": "bb397bb5",
   "metadata": {},
   "source": [
    "## Detune the laser light with setting the PID at the Redpitaya"
   ]
  },
  {
   "cell_type": "code",
   "execution_count": 2,
   "id": "cfc56c9f",
   "metadata": {},
   "outputs": [
    {
     "name": "stderr",
     "output_type": "stream",
     "text": [
      "INFO:pyrpl:All your PyRPL settings will be saved to the config file\n",
      "    C:\\Users\\NaKaControl\\pyrpl_user_dir\\config\\111.yml\n",
      "If you would like to restart PyRPL with these settings, type \"pyrpl.exe 111\" in a windows terminal or \n",
      "    from pyrpl import Pyrpl\n",
      "    p = Pyrpl('111')\n",
      "in a python terminal.\n",
      "INFO:pyrpl.redpitaya:Successfully connected to Redpitaya with hostname 10.0.2.111.\n",
      "WARNING:pyrpl.modules:Register pause_gains of module pid0 has value 7, which does not correspond to selected option 0. Setting to 'off'. \n"
     ]
    }
   ],
   "source": [
    "# connect to the redpitaya and create Redpitaya instance\n",
    "p = pyrpl.Pyrpl(hostname='10.0.2.111', config='111.yml'); r = p.rp"
   ]
  },
  {
   "cell_type": "code",
   "execution_count": null,
   "id": "9cf2c27a",
   "metadata": {},
   "outputs": [],
   "source": [
    "print(r.pid0.setup())"
   ]
  },
  {
   "cell_type": "code",
   "execution_count": 3,
   "id": "f7a82225",
   "metadata": {},
   "outputs": [],
   "source": [
    "# shortcut to save data\n",
    "def save_data(data):\n",
    "    path = Path.home().as_posix()\n",
    "    full_path = Path(path+'/Dropbox (CoQuMa)/LabNotes/NaKa/'+timestamp[:7]+'/'+timestamp[:10]+'/')\n",
    "    \n",
    "    try:\n",
    "        with open(str(full_path)+'\\\\redpitaya_'+timestamp[:10]+'.csv', 'a',newline='', encoding='UTF8') as f:\n",
    "            writer = csv.writer(f)\n",
    "            writer.writerow(data)\n",
    "    except FileNotFoundError :\n",
    "        with open(Path.cwd().as_posix()+'\\\\data\\\\redpitaya_'+timestamp[:10]+'.csv', 'a',newline='', encoding='UTF8') as f:\n",
    "            writer = csv.writer(f)\n",
    "            writer.writerow(data)"
   ]
  },
  {
   "cell_type": "markdown",
   "id": "7a03625f",
   "metadata": {},
   "source": [
    "### Saving data only"
   ]
  },
  {
   "cell_type": "code",
   "execution_count": null,
   "id": "ce4097da",
   "metadata": {},
   "outputs": [],
   "source": [
    "# just keep track of the lock...\n",
    "while True:\n",
    "    now = datetime.datetime.now()\n",
    "    timestamp = now.strftime(\"%Y-%m-%d %H:%M:%S\")\n",
    "    \n",
    "    data = [ timestamp, r.scope.voltage_in1, r.pid0.setpoint ]\n",
    "    save_data(data)\n",
    "    \n",
    "    time.sleep(5)"
   ]
  },
  {
   "cell_type": "markdown",
   "id": "c15c0ce2",
   "metadata": {},
   "source": [
    "### Doing the actual ramping/measurement"
   ]
  },
  {
   "cell_type": "code",
   "execution_count": null,
   "id": "d13d8477",
   "metadata": {},
   "outputs": [],
   "source": [
    "# create an array of detuning and run the cell below\n",
    "start = -0.15 # in V\n",
    "stop = -0.05\n",
    "step = 0.01\n",
    "ramp = np.arange(start, stop+step, step)\n",
    "\n",
    "# set the duration of the ramping steps or...\n",
    "delay = 30 # in seconds\n",
    "total_time = len(ramp) * delay\n",
    "\n",
    "# ...the total ramping time\n",
    "# total_time = 600 # in seconds\n",
    "# delay = total_time / len(ramp)"
   ]
  },
  {
   "cell_type": "code",
   "execution_count": null,
   "id": "ef7ce99e",
   "metadata": {},
   "outputs": [],
   "source": [
    "restore = r.pid0.setpoint\n",
    "\n",
    "# go through the ramp\n",
    "for setpoint in ramp:\n",
    "    r.pid0.setpoint = setpoint\n",
    "\n",
    "    step_time = 0\n",
    "    while step_time < delay:\n",
    "        now = datetime.datetime.now()\n",
    "        timestamp = now.strftime(\"%Y-%m-%d %H:%M:%S\")\n",
    "        \n",
    "        data = [ timestamp, r.scope.voltage_in1 ]\n",
    "        save_data(data)\n",
    "        \n",
    "        print('Current setpoint : ' + str(setpoint) + ' V -- Time remaining : ' + str(total_time).rjust(3) + ' s', end='\\r')\n",
    "        total_time -= 1\n",
    "        step_time += 1\n",
    "        time.sleep(1)\n",
    "        \n",
    "# restore previous settings\n",
    "r.pid0.setpoint = restore"
   ]
  },
  {
   "cell_type": "markdown",
   "id": "2c1dcdd6",
   "metadata": {},
   "source": [
    "### Include the SlackBot here...?"
   ]
  },
  {
   "cell_type": "code",
   "execution_count": null,
   "id": "4dda28be",
   "metadata": {},
   "outputs": [],
   "source": [
    "if -1 > r.scope.input1 || r.scope.voltage_in1 > 1.0:\n",
    "    redirect_url = \"https://hydra.kip.uni-heidelberg.de:8443/f21server/#/\"\n",
    "    text = \":fire: ALERT!!! \\n The laser is out of lock! Check the NaKaControl\"\n",
    "    channel_id = \"C02F1MWPLM7\" # naka_laserlock channel\n",
    "    url = \"https://slack.com/api/chat.postMessage\"\n",
    "    payload = {\n",
    "        \"channel\": \"C02F1MWPLM7\",\n",
    "        #\"text\": \"\",\n",
    "        \"attachments\": [{\n",
    "            \"text\": text,\n",
    "            \"color\": \"#ad1721\",\n",
    "            \"attachment_type\": \"default\",\n",
    "            \"actions\": [\n",
    "                {\n",
    "                    \"name\": \"Take me there!\",\n",
    "                    \"text\": \"Take me there!\",\n",
    "                    \"type\": \"button\",\n",
    "                    \"style\": \"primary\",\n",
    "                    \"url\": redirect_url\n",
    "                },\n",
    "            ]\n",
    "            }]\n",
    "        }\n",
    "    headers = { \n",
    "        \"Content-type\" : \"application/json\",\n",
    "        \"Authorization\" : \"Bearer \" + Slackbot.bot_token,\n",
    "    }\n",
    "    \n",
    "    try:\n",
    "        r = requests.post(url, json=payload, headers=headers)\n",
    "        r.raise_for_status()\n",
    "        print(r.text)"
   ]
  }
 ],
 "metadata": {
  "kernelspec": {
   "display_name": "Python 3",
   "language": "python",
   "name": "python3"
  },
  "language_info": {
   "codemirror_mode": {
    "name": "ipython",
    "version": 3
   },
   "file_extension": ".py",
   "mimetype": "text/x-python",
   "name": "python",
   "nbconvert_exporter": "python",
   "pygments_lexer": "ipython3",
   "version": "3.9.7"
  }
 },
 "nbformat": 4,
 "nbformat_minor": 5
}
