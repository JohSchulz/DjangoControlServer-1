{
 "cells": [
  {
   "cell_type": "markdown",
   "id": "49f3d57f",
   "metadata": {},
   "source": [
    "# LASER LOCK"
   ]
  },
  {
   "cell_type": "code",
   "execution_count": null,
   "id": "57d00b3a",
   "metadata": {},
   "outputs": [],
   "source": [
    "# import libraries for devices\n",
    "from moku.instruments import ArbitraryWaveformGenerator\n",
    "import pyrpl, time\n",
    "\n",
    "# import libraries for plotting etc\n",
    "import matplotlib.pyplot as plt\n",
    "import numpy as np\n",
    "\n",
    "%matplotlib inline"
   ]
  },
  {
   "cell_type": "markdown",
   "id": "cedb380f",
   "metadata": {},
   "source": [
    "## 1. Connect to the RedPitaya\n",
    "\n",
    "- The config file should already have all the modules opened up, otherwise open them and set all the values accordingly ( see labNotes...)\n",
    "- Start ramping with the full range of 1 V such that you do not miss the signal"
   ]
  },
  {
   "cell_type": "code",
   "execution_count": null,
   "id": "c0319e21",
   "metadata": {},
   "outputs": [],
   "source": [
    "p = pyrpl.Pyrpl(hostname=\"10.0.2.111\", config=\"111.yml\")"
   ]
  },
  {
   "cell_type": "markdown",
   "id": "1a444fea",
   "metadata": {},
   "source": [
    "## 2. Connect to the Moku:GO\n",
    "- It may be, that the moku is already inizialized and won't respond. In that case, clear all connections first and then retry"
   ]
  },
  {
   "cell_type": "code",
   "execution_count": null,
   "id": "54142cb5",
   "metadata": {},
   "outputs": [],
   "source": [
    "i = ArbitraryWaveformGenerator('10.0.2.112', force_connect=False)"
   ]
  },
  {
   "cell_type": "markdown",
   "id": "975c385f",
   "metadata": {},
   "source": [
    "## 3. Find a good offset for the ramping"
   ]
  },
  {
   "cell_type": "code",
   "execution_count": null,
   "id": "137237e9",
   "metadata": {},
   "outputs": [],
   "source": [
    "# Here you can access the available_power_supplies function\n",
    "# i.available_power_supplies()\n",
    "\n",
    "# We usually have to set the ramping off by about 2 V...\n",
    "i.set_power_supply(1, enable=True, voltage=1.85, current=0.0)"
   ]
  },
  {
   "cell_type": "markdown",
   "id": "8d9c763b",
   "metadata": {},
   "source": [
    "## 4. Zoom in unto the CO-resonance\n",
    "- Decrease the amplitude of the ramping while adjusting the offset given by the Moku:GO such that the resonance stays in the center of the slope"
   ]
  },
  {
   "cell_type": "markdown",
   "id": "ca7083ea",
   "metadata": {},
   "source": [
    "## 5. Actual locking\n",
    "- Turn on the fast ( 10 kHz ) modulation via the coil. Check for the iq output\n",
    "- Set the setpoint of the PID, turn of the ramp and forward the PID output to the laser ( out 1 )"
   ]
  },
  {
   "cell_type": "markdown",
   "id": "b6228ab3",
   "metadata": {},
   "source": [
    "Enjoy your lock!"
   ]
  }
 ],
 "metadata": {
  "kernelspec": {
   "display_name": "Python 3 (ipykernel)",
   "language": "python",
   "name": "python3"
  },
  "language_info": {
   "codemirror_mode": {
    "name": "ipython",
    "version": 3
   },
   "file_extension": ".py",
   "mimetype": "text/x-python",
   "name": "python",
   "nbconvert_exporter": "python",
   "pygments_lexer": "ipython3",
   "version": "3.9.5"
  }
 },
 "nbformat": 4,
 "nbformat_minor": 5
}
