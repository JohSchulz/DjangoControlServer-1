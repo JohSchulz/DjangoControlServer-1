{
 "cells": [
  {
   "cell_type": "markdown",
   "id": "49f3d57f",
   "metadata": {},
   "source": [
    "# LASER LOCK"
   ]
  },
  {
   "cell_type": "code",
   "execution_count": 1,
   "id": "57d00b3a",
   "metadata": {},
   "outputs": [],
   "source": [
    "# import libraries for devices\n",
    "from moku.instruments import ArbitraryWaveformGenerator, Oscilloscope\n",
    "import time, datetime\n",
    "\n",
    "# import libraries for plotting etc\n",
    "import matplotlib.pyplot as plt\n",
    "import numpy as np\n",
    "\n",
    "%matplotlib inline"
   ]
  },
  {
   "cell_type": "markdown",
   "id": "cedb380f",
   "metadata": {},
   "source": [
    "## 1. Connect to the RedPitaya\n",
    "\n",
    "- The config file should already have all the modules opened up, otherwise open them and set all the values accordingly ( see labNotes...)\n",
    "- Start ramping with the full range of 1 V such that you do not miss the signal"
   ]
  },
  {
   "cell_type": "code",
   "execution_count": 2,
   "id": "0f1caa6f",
   "metadata": {},
   "outputs": [
    {
     "ename": "PythonQtError",
     "evalue": "No Qt bindings could be found",
     "output_type": "error",
     "traceback": [
      "\u001b[1;31m---------------------------------------------------------------------------\u001b[0m",
      "\u001b[1;31mModuleNotFoundError\u001b[0m                       Traceback (most recent call last)",
      "\u001b[1;32m~\\miniconda3\\envs\\nakacontrol\\lib\\site-packages\\qtpy-1.9.0-py3.9.egg\\qtpy\\__init__.py\u001b[0m in \u001b[0;36m<module>\u001b[1;34m\u001b[0m\n\u001b[0;32m    203\u001b[0m     \u001b[1;32mtry\u001b[0m\u001b[1;33m:\u001b[0m\u001b[1;33m\u001b[0m\u001b[1;33m\u001b[0m\u001b[0m\n\u001b[1;32m--> 204\u001b[1;33m         \u001b[1;32mfrom\u001b[0m \u001b[0mPySide\u001b[0m \u001b[1;32mimport\u001b[0m \u001b[0m__version__\u001b[0m \u001b[1;32mas\u001b[0m \u001b[0mPYSIDE_VERSION\u001b[0m  \u001b[1;31m# analysis:ignore\u001b[0m\u001b[1;33m\u001b[0m\u001b[1;33m\u001b[0m\u001b[0m\n\u001b[0m\u001b[0;32m    205\u001b[0m         \u001b[1;32mfrom\u001b[0m \u001b[0mPySide\u001b[0m\u001b[1;33m.\u001b[0m\u001b[0mQtCore\u001b[0m \u001b[1;32mimport\u001b[0m \u001b[0m__version__\u001b[0m \u001b[1;32mas\u001b[0m \u001b[0mQT_VERSION\u001b[0m  \u001b[1;31m# analysis:ignore\u001b[0m\u001b[1;33m\u001b[0m\u001b[1;33m\u001b[0m\u001b[0m\n",
      "\u001b[1;31mModuleNotFoundError\u001b[0m: No module named 'PySide'",
      "\nDuring handling of the above exception, another exception occurred:\n",
      "\u001b[1;31mPythonQtError\u001b[0m                             Traceback (most recent call last)",
      "\u001b[1;32mC:\\Users\\NAKACO~1\\AppData\\Local\\Temp/ipykernel_4940/2145504583.py\u001b[0m in \u001b[0;36m<module>\u001b[1;34m\u001b[0m\n\u001b[1;32m----> 1\u001b[1;33m \u001b[1;32mimport\u001b[0m \u001b[0mpyrpl\u001b[0m\u001b[1;33m\u001b[0m\u001b[1;33m\u001b[0m\u001b[0m\n\u001b[0m",
      "\u001b[1;32mc:\\users\\nakacontrol\\documents\\git\\pyrpl\\pyrpl\\__init__.py\u001b[0m in \u001b[0;36m<module>\u001b[1;34m\u001b[0m\n\u001b[0;32m     31\u001b[0m \u001b[1;33m\u001b[0m\u001b[0m\n\u001b[0;32m     32\u001b[0m \u001b[1;31m# get QApplication instance\u001b[0m\u001b[1;33m\u001b[0m\u001b[1;33m\u001b[0m\u001b[0m\n\u001b[1;32m---> 33\u001b[1;33m \u001b[1;32mfrom\u001b[0m \u001b[0mqtpy\u001b[0m \u001b[1;32mimport\u001b[0m \u001b[0mQtCore\u001b[0m\u001b[1;33m,\u001b[0m \u001b[0mQtWidgets\u001b[0m\u001b[1;33m\u001b[0m\u001b[1;33m\u001b[0m\u001b[0m\n\u001b[0m\u001b[0;32m     34\u001b[0m \u001b[0mAPP\u001b[0m \u001b[1;33m=\u001b[0m \u001b[0mQtWidgets\u001b[0m\u001b[1;33m.\u001b[0m\u001b[0mQApplication\u001b[0m\u001b[1;33m.\u001b[0m\u001b[0minstance\u001b[0m\u001b[1;33m(\u001b[0m\u001b[1;33m)\u001b[0m\u001b[1;33m\u001b[0m\u001b[1;33m\u001b[0m\u001b[0m\n\u001b[0;32m     35\u001b[0m \u001b[1;32mif\u001b[0m \u001b[0mAPP\u001b[0m \u001b[1;32mis\u001b[0m \u001b[1;32mNone\u001b[0m\u001b[1;33m:\u001b[0m\u001b[1;33m\u001b[0m\u001b[1;33m\u001b[0m\u001b[0m\n",
      "\u001b[1;32m~\\miniconda3\\envs\\nakacontrol\\lib\\site-packages\\qtpy-1.9.0-py3.9.egg\\qtpy\\__init__.py\u001b[0m in \u001b[0;36m<module>\u001b[1;34m\u001b[0m\n\u001b[0;32m    208\u001b[0m         \u001b[0mPYSIDE\u001b[0m \u001b[1;33m=\u001b[0m \u001b[1;32mTrue\u001b[0m\u001b[1;33m\u001b[0m\u001b[1;33m\u001b[0m\u001b[0m\n\u001b[0;32m    209\u001b[0m     \u001b[1;32mexcept\u001b[0m \u001b[0mImportError\u001b[0m\u001b[1;33m:\u001b[0m\u001b[1;33m\u001b[0m\u001b[1;33m\u001b[0m\u001b[0m\n\u001b[1;32m--> 210\u001b[1;33m         \u001b[1;32mraise\u001b[0m \u001b[0mPythonQtError\u001b[0m\u001b[1;33m(\u001b[0m\u001b[1;34m'No Qt bindings could be found'\u001b[0m\u001b[1;33m)\u001b[0m\u001b[1;33m\u001b[0m\u001b[1;33m\u001b[0m\u001b[0m\n\u001b[0m\u001b[0;32m    211\u001b[0m \u001b[1;33m\u001b[0m\u001b[0m\n\u001b[0;32m    212\u001b[0m \u001b[1;31m# If a correct API name is passed to QT_API and it could not be found,\u001b[0m\u001b[1;33m\u001b[0m\u001b[1;33m\u001b[0m\u001b[0m\n",
      "\u001b[1;31mPythonQtError\u001b[0m: No Qt bindings could be found"
     ]
    },
    {
     "name": "stderr",
     "output_type": "stream",
     "text": [
      "ERROR:tornado.application:Exception in callback functools.partial(<function Kernel.enter_eventloop.<locals>.advance_eventloop at 0x00000168532E3820>)\n",
      "Traceback (most recent call last):\n",
      "  File \"C:\\Users\\NaKaControl\\miniconda3\\envs\\nakacontrol\\lib\\site-packages\\tornado\\ioloop.py\", line 741, in _run_callback\n",
      "    ret = callback()\n",
      "  File \"C:\\Users\\NaKaControl\\miniconda3\\envs\\nakacontrol\\lib\\site-packages\\ipykernel\\kernelbase.py\", line 402, in advance_eventloop\n",
      "    eventloop(self)\n",
      "  File \"C:\\Users\\NaKaControl\\miniconda3\\envs\\nakacontrol\\lib\\site-packages\\ipykernel\\eventloops.py\", line 126, in loop_qt5\n",
      "    return loop_qt4(kernel)\n",
      "  File \"C:\\Users\\NaKaControl\\miniconda3\\envs\\nakacontrol\\lib\\site-packages\\ipykernel\\eventloops.py\", line 115, in loop_qt4\n",
      "    kernel.app = get_app_qt4([\" \"])\n",
      "  File \"C:\\Users\\NaKaControl\\miniconda3\\envs\\nakacontrol\\lib\\site-packages\\IPython\\lib\\guisupport.py\", line 114, in get_app_qt4\n",
      "    from IPython.external.qt_for_kernel import QtGui\n",
      "  File \"C:\\Users\\NaKaControl\\miniconda3\\envs\\nakacontrol\\lib\\site-packages\\IPython\\external\\qt_for_kernel.py\", line 128, in <module>\n",
      "    QtCore, QtGui, QtSvg, QT_API = load_qt(api_opts)\n",
      "  File \"C:\\Users\\NaKaControl\\miniconda3\\envs\\nakacontrol\\lib\\site-packages\\IPython\\external\\qt_loaders.py\", line 372, in load_qt\n",
      "    raise ImportError(\"\"\"\n",
      "ImportError: \n",
      "    Could not load requested Qt binding. Please ensure that\n",
      "    PyQt4 >= 4.7, PyQt5, PySide >= 1.0.3 or PySide2 is available,\n",
      "    and only one is imported per session.\n",
      "\n",
      "    Currently-imported Qt library:                              None\n",
      "    PyQt4 available (requires QtCore, QtGui, QtSvg):            False\n",
      "    PyQt5 available (requires QtCore, QtGui, QtSvg, QtWidgets): False\n",
      "    PySide >= 1.0.3 installed:                                  False\n",
      "    PySide2 installed:                                          False\n",
      "    Tried to load:                                              ['pyqt5']\n",
      "    \n"
     ]
    }
   ],
   "source": [
    "import pyrpl"
   ]
  },
  {
   "cell_type": "code",
   "execution_count": 3,
   "id": "c0319e21",
   "metadata": {},
   "outputs": [
    {
     "ename": "NameError",
     "evalue": "name 'pyrpl' is not defined",
     "output_type": "error",
     "traceback": [
      "\u001b[1;31m---------------------------------------------------------------------------\u001b[0m",
      "\u001b[1;31mNameError\u001b[0m                                 Traceback (most recent call last)",
      "\u001b[1;32mC:\\Users\\NAKACO~1\\AppData\\Local\\Temp/ipykernel_4940/2429094504.py\u001b[0m in \u001b[0;36m<module>\u001b[1;34m\u001b[0m\n\u001b[1;32m----> 1\u001b[1;33m \u001b[0mp\u001b[0m \u001b[1;33m=\u001b[0m \u001b[0mpyrpl\u001b[0m\u001b[1;33m.\u001b[0m\u001b[0mPyrpl\u001b[0m\u001b[1;33m(\u001b[0m\u001b[0mhostname\u001b[0m\u001b[1;33m=\u001b[0m\u001b[1;34m\"10.0.2.111\"\u001b[0m\u001b[1;33m,\u001b[0m \u001b[0mconfig\u001b[0m\u001b[1;33m=\u001b[0m\u001b[1;34m\"111.yml\"\u001b[0m\u001b[1;33m)\u001b[0m\u001b[1;33m\u001b[0m\u001b[1;33m\u001b[0m\u001b[0m\n\u001b[0m",
      "\u001b[1;31mNameError\u001b[0m: name 'pyrpl' is not defined"
     ]
    }
   ],
   "source": [
    "p = pyrpl.Pyrpl(hostname=\"10.0.2.111\", config=\"111.yml\")"
   ]
  },
  {
   "cell_type": "markdown",
   "id": "1a444fea",
   "metadata": {},
   "source": [
    "## 2. Connect to the Moku:GO\n",
    "- It may be, that the moku is already inizialized and won't respond. In that case, clear all connections first and then retry"
   ]
  },
  {
   "cell_type": "code",
   "execution_count": 2,
   "id": "54142cb5",
   "metadata": {},
   "outputs": [],
   "source": [
    "# Close the connection to the Moku device\n",
    "# This ensures network resources and released correctly\n",
    "# i.relinquish_ownership()\n",
    "    \n",
    "i = ArbitraryWaveformGenerator('10.0.2.112', force_connect=True)"
   ]
  },
  {
   "cell_type": "markdown",
   "id": "975c385f",
   "metadata": {},
   "source": [
    "## 3. Find a good offset for the ramping"
   ]
  },
  {
   "cell_type": "code",
   "execution_count": 4,
   "id": "137237e9",
   "metadata": {},
   "outputs": [
    {
     "data": {
      "text/plain": [
       "{'id': 1,\n",
       " 'enabled': True,\n",
       " 'current_range': [0, 0.15],\n",
       " 'voltage_range': [-5, 5],\n",
       " 'set_voltage': 0,\n",
       " 'set_current': 0,\n",
       " 'actual_voltage': -0.0547500000000003,\n",
       " 'actual_current': -0.003472900390624978,\n",
       " 'constant_current_mode': True,\n",
       " 'constant_voltage_mode': False}"
      ]
     },
     "execution_count": 4,
     "metadata": {},
     "output_type": "execute_result"
    }
   ],
   "source": [
    "# Here you can access the available_power_supplies function\n",
    "#i.available_power_supplies()\n",
    "\n",
    "# We usually have to set the ramping off by about 2 V...\n",
    "i.set_power_supply(1, enable=True, voltage=0, current=0.0)"
   ]
  },
  {
   "cell_type": "markdown",
   "id": "8d9c763b",
   "metadata": {},
   "source": [
    "## 4. Zoom in unto the CO-resonance\n",
    "- Decrease the amplitude of the ramping while adjusting the offset given by the Moku:GO such that the resonance stays in the center of the slope"
   ]
  },
  {
   "cell_type": "markdown",
   "id": "ca7083ea",
   "metadata": {},
   "source": [
    "## 5. Actual locking\n",
    "- Turn on the fast ( 10 kHz ) modulation via the coil. Check for the iq output\n",
    "- Set the setpoint of the PID, turn of the ramp and forward the PID output to the laser ( out 1 )"
   ]
  },
  {
   "cell_type": "markdown",
   "id": "b6228ab3",
   "metadata": {},
   "source": [
    "Enjoy your lock!"
   ]
  },
  {
   "cell_type": "markdown",
   "id": "8f79fe9b",
   "metadata": {},
   "source": [
    "# APPENDIX"
   ]
  },
  {
   "cell_type": "markdown",
   "id": "86ea1380",
   "metadata": {},
   "source": [
    "## Moku:GO Oscilloscope"
   ]
  },
  {
   "cell_type": "code",
   "execution_count": null,
   "id": "55e7e8bb",
   "metadata": {},
   "outputs": [],
   "source": [
    "# Here we want to have the plots in an external window\n",
    "%matplotlib"
   ]
  },
  {
   "cell_type": "code",
   "execution_count": null,
   "id": "98e193e8",
   "metadata": {},
   "outputs": [],
   "source": [
    "i.relinquish_ownership()\n",
    "# i = Oscilloscope('10.0.2.112', force_connect=False)"
   ]
  },
  {
   "cell_type": "code",
   "execution_count": null,
   "id": "27ca3233",
   "metadata": {},
   "outputs": [],
   "source": [
    "i = Oscilloscope('10.0.2.112', force_connect=True)"
   ]
  },
  {
   "cell_type": "code",
   "execution_count": null,
   "id": "8fd7b055",
   "metadata": {},
   "outputs": [],
   "source": [
    "# This example demonstrates how you can configure the Oscilloscope instrument,\n",
    "# and view triggered time-voltage data frames in real-time.\n",
    "#\n",
    "# (c) 2021 Liquid Instruments Pty. Ltd.\n",
    "def on_close(event):\n",
    "    print('Closed Figure!')\n",
    "    i.relinquish_ownership()\n",
    "\n",
    "try:\n",
    "    # Trigger on input Channel 1, rising edge, 0V \n",
    "    i.set_trigger(type='Edge', source='Input1', level=0)\n",
    "\n",
    "    # View +-5usec, i.e. trigger in the centre\n",
    "    i.set_timebase(-5e-6, 5e-6)\n",
    "\n",
    "    # Set the data source of Channel 1 to be Input 1\n",
    "    i.set_source(1, 'Input1')\n",
    "\n",
    "    # Set the data source of Channel 2 to the generated output sinewave\n",
    "    i.set_source(2, 'Input2')\n",
    "\n",
    "\n",
    "    # Get initial data frame to set up plotting parameters. This can be done\n",
    "    # once if we know that the axes aren't going to change (otherwise we'd do\n",
    "    # this in the loop)\n",
    "    data = i.get_data()\n",
    "\n",
    "    # Set up the plotting parameters\n",
    "    plt.ion()\n",
    "    plt.show()\n",
    "    plt.grid(b=True)\n",
    "    plt.ylim([-1, 1])\n",
    "    plt.xlim([data['time'][0], data['time'][-1]])\n",
    "\n",
    "    line1, = plt.plot([], label='channel 1')\n",
    "    line2, = plt.plot([], label='channel 2')\n",
    "\n",
    "    # Configure labels for axes\n",
    "    ax = plt.gca()\n",
    "    \n",
    "    # This loops continuously updates the plot with new data\n",
    "    while True:\n",
    "        # Get new data\n",
    "        data = i.get_data()\n",
    "\n",
    "        # Update the plot\n",
    "        line1.set_ydata(data['ch1'])\n",
    "        line2.set_ydata(data['ch2'])\n",
    "        line1.set_xdata(data['time'])\n",
    "        line2.set_xdata(data['time'])\n",
    "        \n",
    "        ax.set_title(datetime.datetime.now().strftime(\"%d/%m/%Y, %H:%M:%S\"))\n",
    "        ax.legend()\n",
    "\n",
    "        plt.pause(0.001)\n",
    "        \n",
    "        fig = plt.gcf()  # get current figure\n",
    "        fig.canvas.mpl_connect('close_event', on_close)\n",
    "        \n",
    "except Exception as e:\n",
    "    print(f'Exception occurred: {e}')\n",
    "except KeyboardInterrupt:\n",
    "    print('Interrupt!')\n",
    "finally:\n",
    "    # Close the connection to the Moku device\n",
    "    # This ensures network resources and released correctly\n",
    "    i.relinquish_ownership()\n",
    "    print('Ownership relinquished!')"
   ]
  }
 ],
 "metadata": {
  "kernelspec": {
   "display_name": "Python 3 (ipykernel)",
   "language": "python",
   "name": "python3"
  },
  "language_info": {
   "codemirror_mode": {
    "name": "ipython",
    "version": 3
   },
   "file_extension": ".py",
   "mimetype": "text/x-python",
   "name": "python",
   "nbconvert_exporter": "python",
   "pygments_lexer": "ipython3",
   "version": "3.9.7"
  }
 },
 "nbformat": 4,
 "nbformat_minor": 5
}
