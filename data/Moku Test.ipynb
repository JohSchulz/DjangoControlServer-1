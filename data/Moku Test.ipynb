{
 "cells": [
  {
   "cell_type": "markdown",
   "id": "b2e2e36c",
   "metadata": {},
   "source": [
    "# Jupyter Notebook to play around with MOKU:GO"
   ]
  },
  {
   "cell_type": "markdown",
   "id": "ee5b086b",
   "metadata": {},
   "source": [
    "## nakago2 : 129.206.180.142"
   ]
  },
  {
   "cell_type": "code",
   "execution_count": 1,
   "id": "a2642e6f",
   "metadata": {},
   "outputs": [
    {
     "name": "stderr",
     "output_type": "stream",
     "text": [
      "Matplotlib is building the font cache; this may take a moment.\n"
     ]
    },
    {
     "name": "stdout",
     "output_type": "stream",
     "text": [
      "Using matplotlib backend: GTK3Agg\n"
     ]
    },
    {
     "name": "stderr",
     "output_type": "stream",
     "text": [
      "/home/imdippel/.local/lib/python3.9/site-packages/ipykernel/gui/gtk3embed.py:59: RuntimeWarning: coroutine 'Kernel.do_one_iteration' was never awaited\n",
      "  self.kernel.do_one_iteration()\n",
      "RuntimeWarning: Enable tracemalloc to get the object allocation traceback\n"
     ]
    }
   ],
   "source": [
    "from moku.instruments import PIDController\n",
    "from moku.instruments import Oscilloscope\n",
    "\n",
    "import matplotlib.pyplot as plt\n",
    "import numpy as np\n",
    "\n",
    "import datetime\n",
    "\n",
    "%matplotlib"
   ]
  },
  {
   "cell_type": "markdown",
   "id": "f63542de",
   "metadata": {},
   "source": [
    "## Moku:Go (nakago2)"
   ]
  },
  {
   "cell_type": "code",
   "execution_count": null,
   "id": "9e22a90e",
   "metadata": {},
   "outputs": [],
   "source": [
    "# This example demonstrates how you can configure the Oscilloscope instrument,\n",
    "# and view triggered time-voltage data frames in real-time.\n",
    "#\n",
    "# (c) 2021 Liquid Instruments Pty. Ltd.\n",
    "\n",
    "print('START : ' + datetime.datetime.now().strftime(\"%d/%m/%Y, %H:%M:%S\"))\n",
    "def on_close(event):\n",
    "    print('Closed Figure!')\n",
    "    i.relinquish_ownership()\n",
    "    \n",
    "# Connect to your Moku by its ip address using Oscilloscope('192.168.###.###')\n",
    "# or by its serial number using Oscilloscope(serial=123)\n",
    "i = Oscilloscope('129.206.180.142', force_connect=True)\n",
    "\n",
    "try:\n",
    "    # Trigger on input Channel 1, rising edge, 0V \n",
    "    i.set_trigger(type='Edge', source='Input1', level=0)\n",
    "\n",
    "    # View +-5usec, i.e. trigger in the centre\n",
    "    i.set_timebase(-5e-6, 5e-6)\n",
    "\n",
    "    # Generate an output sine wave on Channel 1, 1Vpp, 1MHz, 0V offset\n",
    "    i.generate_waveform(1, 'DC', amplitude=1)\n",
    "    i.generate_waveform(2, 'Sine', amplitude=1, frequency=1e6)\n",
    "\n",
    "    # Set the data source of Channel 1 to be Input 1\n",
    "    i.set_source(1, 'Input1')\n",
    "\n",
    "    # Set the data source of Channel 2 to the generated output sinewave\n",
    "    i.set_source(2, 'Input2')\n",
    "\n",
    "\n",
    "    # Get initial data frame to set up plotting parameters. This can be done\n",
    "    # once if we know that the axes aren't going to change (otherwise we'd do\n",
    "    # this in the loop)\n",
    "    data = i.get_data()\n",
    "    print(data.keys())\n",
    "\n",
    "    # Set up the plotting parameters\n",
    "    plt.ion()\n",
    "    plt.show()\n",
    "    plt.grid(b=True)\n",
    "    plt.ylim([-1, 1])\n",
    "    plt.xlim([data['time'][0], data['time'][-1]])\n",
    "\n",
    "    line1, = plt.plot([], label='channel 1')\n",
    "    line2, = plt.plot([], label='channel 2')\n",
    "\n",
    "    # Configure labels for axes\n",
    "    ax = plt.gca()\n",
    "    \n",
    "    # This loops continuously updates the plot with new data\n",
    "    while True:\n",
    "        # Get new data\n",
    "        data = i.get_data()\n",
    "\n",
    "        # Update the plot\n",
    "        line1.set_ydata(data['ch1'])\n",
    "        line2.set_ydata(data['ch2'])\n",
    "        line1.set_xdata(data['time'])\n",
    "        line2.set_xdata(data['time'])\n",
    "        \n",
    "        ax.set_title(datetime.datetime.now().strftime(\"%d/%m/%Y, %H:%M:%S\"))\n",
    "        ax.legend()\n",
    "\n",
    "        plt.pause(0.001)\n",
    "        \n",
    "        fig = plt.gcf()  # get current figure\n",
    "        fig.canvas.mpl_connect('close_event', on_close)\n",
    "        \n",
    "except Exception as e:\n",
    "    print(f'Exception occurred: {e}')\n",
    "except KeyboardInterrupt:\n",
    "    print('Interrupt!')\n",
    "finally:\n",
    "    # Close the connection to the Moku device\n",
    "    # This ensures network resources and released correctly\n",
    "    i.relinquish_ownership()\n",
    "    print('Ownership relinquished!')"
   ]
  },
  {
   "cell_type": "code",
   "execution_count": null,
   "id": "9b8344ec",
   "metadata": {},
   "outputs": [],
   "source": [
    "# Connect to your Moku by its ip address using Oscilloscope('192.168.###.###')\n",
    "# or by its serial number using Oscilloscope(serial=123)\n",
    "i = Oscilloscope('129.206.180.142', force_connect=True)\n",
    "\n",
    "# Generate an output sine wave on Channel 1, 1Vpp, 1MHz, 0V offset\n",
    "i.generate_waveform(1, 'Ramp', amplitude=2)\n",
    "# i.generate_waveform(2, 'Sine', amplitude=1, frequency=1e6)"
   ]
  },
  {
   "cell_type": "code",
   "execution_count": null,
   "id": "10f4d778",
   "metadata": {},
   "outputs": [],
   "source": [
    "i.relinquish_ownership()"
   ]
  }
 ],
 "metadata": {
  "kernelspec": {
   "display_name": "Python 3 (ipykernel)",
   "language": "python",
   "name": "python3"
  },
  "language_info": {
   "codemirror_mode": {
    "name": "ipython",
    "version": 3
   },
   "file_extension": ".py",
   "mimetype": "text/x-python",
   "name": "python",
   "nbconvert_exporter": "python",
   "pygments_lexer": "ipython3",
   "version": "3.9.5"
  }
 },
 "nbformat": 4,
 "nbformat_minor": 5
}
