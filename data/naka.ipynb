{
 "cells": [
  {
   "cell_type": "code",
   "execution_count": 1,
   "id": "better-purpose",
   "metadata": {},
   "outputs": [
    {
     "ename": "ModuleNotFoundError",
     "evalue": "No module named 'matplotlib'",
     "output_type": "error",
     "traceback": [
      "\u001b[0;31m---------------------------------------------------------------------------\u001b[0m",
      "\u001b[0;31mModuleNotFoundError\u001b[0m                       Traceback (most recent call last)",
      "\u001b[0;32m<ipython-input-1-57e15301899c>\u001b[0m in \u001b[0;36m<module>\u001b[0;34m\u001b[0m\n\u001b[1;32m      3\u001b[0m \u001b[0;32mfrom\u001b[0m \u001b[0mnumpy\u001b[0m \u001b[0;32mimport\u001b[0m \u001b[0msqrt\u001b[0m\u001b[0;34m,\u001b[0m \u001b[0mpi\u001b[0m\u001b[0;34m,\u001b[0m \u001b[0marray\u001b[0m\u001b[0;34m,\u001b[0m \u001b[0marange\u001b[0m\u001b[0;34m,\u001b[0m \u001b[0mpolyfit\u001b[0m\u001b[0;34m\u001b[0m\u001b[0;34m\u001b[0m\u001b[0m\n\u001b[1;32m      4\u001b[0m \u001b[0;34m\u001b[0m\u001b[0m\n\u001b[0;32m----> 5\u001b[0;31m \u001b[0;32mimport\u001b[0m \u001b[0mmatplotlib\u001b[0m\u001b[0;34m.\u001b[0m\u001b[0mpyplot\u001b[0m \u001b[0;32mas\u001b[0m \u001b[0mplt\u001b[0m\u001b[0;34m\u001b[0m\u001b[0;34m\u001b[0m\u001b[0m\n\u001b[0m\u001b[1;32m      6\u001b[0m \u001b[0;32mimport\u001b[0m \u001b[0mmatplotlib\u001b[0m\u001b[0;34m.\u001b[0m\u001b[0mcolors\u001b[0m \u001b[0;32mas\u001b[0m \u001b[0mmcolors\u001b[0m\u001b[0;34m\u001b[0m\u001b[0;34m\u001b[0m\u001b[0m\n\u001b[1;32m      7\u001b[0m \u001b[0;32mimport\u001b[0m \u001b[0mnumpy\u001b[0m \u001b[0;32mas\u001b[0m \u001b[0mnp\u001b[0m\u001b[0;34m\u001b[0m\u001b[0;34m\u001b[0m\u001b[0m\n",
      "\u001b[0;31mModuleNotFoundError\u001b[0m: No module named 'matplotlib'"
     ]
    }
   ],
   "source": [
    "from moku.instruments import PIDController\n",
    "from moku.instruments import Oscilloscope\n",
    "from numpy import sqrt, pi, array, arange, polyfit\n",
    "\n",
    "import matplotlib.pyplot as plt\n",
    "import matplotlib.colors as mcolors\n",
    "import numpy as np\n",
    "import datetime\n",
    "\n",
    "%matplotlib inline"
   ]
  },
  {
   "cell_type": "markdown",
   "id": "dcd662c8",
   "metadata": {},
   "source": [
    "## Pressure conversion"
   ]
  },
  {
   "cell_type": "code",
   "execution_count": 2,
   "id": "be77d880",
   "metadata": {},
   "outputs": [],
   "source": [
    "def con_pv(voltage):\n",
    "    return 10**((voltage-7.75)/0.75)"
   ]
  },
  {
   "cell_type": "code",
   "execution_count": 3,
   "id": "83d1a148",
   "metadata": {},
   "outputs": [
    {
     "data": {
      "text/plain": [
       "9.549925860214349e-08"
      ]
     },
     "execution_count": 3,
     "metadata": {},
     "output_type": "execute_result"
    }
   ],
   "source": [
    "con_pv(2.485)"
   ]
  },
  {
   "cell_type": "markdown",
   "id": "centered-anthony",
   "metadata": {},
   "source": [
    "# RedPitaya"
   ]
  },
  {
   "cell_type": "code",
   "execution_count": 2,
   "id": "discrete-lecture",
   "metadata": {},
   "outputs": [
    {
     "name": "stderr",
     "output_type": "stream",
     "text": [
      "DEBUG:pyrpl.memory:Checking change time of config file...\n",
      "DEBUG:pyrpl.memory:... no reloading required\n",
      "DEBUG:pyrpl.attributes:SelectProperty unit of module None has no options!\n",
      "DEBUG:pyrpl.attributes:SelectProperty unit of module None has no options!\n",
      "DEBUG:pyrpl.attributes:SelectProperty default_sweep_output of module None has no options!\n",
      "DEBUG:pyrpl.attributes:SelectProperty default_sweep_output of module None has no options!\n",
      "DEBUG:pyrpl.attributes:SelectProperty default_sweep_output of module None has no options!\n",
      "DEBUG:pyrpl.attributes:SelectProperty default_sweep_output of module None has no options!\n",
      "DEBUG:pyrpl.attributes:SelectProperty default_sweep_output of module None has no options!\n",
      "DEBUG:pyrpl.attributes:SelectProperty default_sweep_output of module None has no options!\n",
      "DEBUG:pyrpl.attributes:SelectProperty default_sweep_output of module None has no options!\n",
      "DEBUG:pyrpl.attributes:SelectProperty default_sweep_output of module None has no options!\n",
      "DEBUG:pyrpl.attributes:SelectProperty default_sweep_output of module None has no options!\n",
      "DEBUG:pyrpl.attributes:SelectProperty default_sweep_output of module None has no options!\n"
     ]
    }
   ],
   "source": [
    "import pyrpl, time"
   ]
  },
  {
   "cell_type": "code",
   "execution_count": 5,
   "id": "competitive-species",
   "metadata": {},
   "outputs": [
    {
     "name": "stderr",
     "output_type": "stream",
     "text": [
      "INFO:pyrpl:All your PyRPL settings will be saved to the config file\n",
      "    /home/imdippel/pyrpl_user_dir/config/211.yml\n",
      "If you would like to restart PyRPL with these settings, type \"pyrpl.exe 211\" in a windows terminal or \n",
      "    from pyrpl import Pyrpl\n",
      "    p = Pyrpl('211')\n",
      "in a python terminal.\n",
      "INFO:pyrpl.redpitaya:Successfully connected to Redpitaya with hostname 10.0.2.211.\n"
     ]
    }
   ],
   "source": [
    "p = pyrpl.Pyrpl(hostname=\"10.0.2.211\", config=\"211.yml\")"
   ]
  },
  {
   "cell_type": "code",
   "execution_count": null,
   "id": "charming-burden",
   "metadata": {},
   "outputs": [],
   "source": [
    "# Access the RedPitaya object in charge of communicating with the board\n",
    "r = p.rp\n",
    "\n",
    "#check the value of input1\n",
    "print r.scope.voltage1"
   ]
  },
  {
   "cell_type": "code",
   "execution_count": null,
   "id": "sixth-health",
   "metadata": {},
   "outputs": [],
   "source": [
    "#see how the adc reading fluctuates over time\n",
    "import time\n",
    "from matplotlib import pyplot as plt\n",
    "times, data = [],[]\n",
    "t0 = time.time()\n",
    "n = 3000\n",
    "for i in range(n):\n",
    "    times.append(time.time()-t0)\n",
    "    data.append(r.scope.voltage_in1)\n",
    "print(\"Rough time to read one FPGA register: \", (time.time()-t0)/n*1e6, \"?s\")\n",
    "%matplotlib inline\n",
    "f, axarr = plt.subplots(1,2, sharey=True)\n",
    "axarr[0].plot(times, data, \"+\")\n",
    "axarr[0].set_title(\"ADC voltage vs time\")\n",
    "axarr[1].hist(data, bins=10,normed=True, orientation=\"horizontal\")\n",
    "axarr[1].set_title(\"ADC voltage histogram\")"
   ]
  },
  {
   "cell_type": "markdown",
   "id": "determined-nashville",
   "metadata": {},
   "source": [
    "### Oscilloscope"
   ]
  },
  {
   "cell_type": "code",
   "execution_count": null,
   "id": "owned-practice",
   "metadata": {},
   "outputs": [],
   "source": [
    "s = r.scope # shortcut\n",
    "print(\"Available decimation factors:\", s.decimations)\n",
    "print(\"Trigger sources:\", s.trigger_sources)\n",
    "print(\"Available inputs: \", s.inputs)"
   ]
  },
  {
   "cell_type": "code",
   "execution_count": null,
   "id": "mighty-machinery",
   "metadata": {},
   "outputs": [],
   "source": [
    "asg = r.asg1\n",
    "s = r.scope\n",
    "\n",
    "# turn off asg so the scope has a chance to measure its \"off-state\" as well\n",
    "asg.output_direct = \"off\"\n",
    "\n",
    "# setup scope\n",
    "s.input1 = 'asg1'\n",
    "\n",
    "# pass asg signal through pid0 with a simple integrator - just for fun (detailed explanations for pid will follow)\n",
    "r.pid0.input = 'asg1'\n",
    "r.pid0.ival = 0 # reset the integrator to zero\n",
    "r.pid0.i = 1000 # unity gain frequency of 1000 hz\n",
    "r.pid0.p = 1.0 # proportional gain of 1.0\n",
    "r.pid0.inputfilter = [0,0,0,0] # leave input filter disabled for now\n",
    "\n",
    "# show pid output on channel2\n",
    "s.input2 = 'pid0'\n",
    "\n",
    "# trig at zero volt crossing\n",
    "s.threshold_ch1 = 0\n",
    "\n",
    "# positive/negative slope is detected by waiting for input to\n",
    "# sweep through hysteresis around the trigger threshold in\n",
    "# the right direction\n",
    "s.hysteresis_ch1 = 0.01\n",
    "\n",
    "# trigger on the input signal positive slope\n",
    "s.trigger_source = 'ch1_positive_edge'\n",
    "\n",
    "# take data symetrically around the trigger event\n",
    "s.trigger_delay = 0\n",
    "\n",
    "# set decimation factor to 64 -> full scope trace is 8ns * 2^14 * decimation = 8.3 ms long\n",
    "s.decimation = 64\n",
    "\n",
    "# launch a single (asynchronous) curve acquisition, the asynchronous\n",
    "# acquisition means that the function returns immediately, eventhough the\n",
    "# data-acquisition is still going on.\n",
    "res = s.curve_async()\n",
    "\n",
    "print(\"Before turning on asg:\")\n",
    "print(\"Curve ready:\", s.curve_ready()) # trigger should still be armed\n",
    "\n",
    "# turn on asg and leave enough time for the scope to record the data\n",
    "asg.setup(frequency=1e3, amplitude=0.3, start_phase=90, waveform='halframp', trigger_source='immediately')\n",
    "sleep(0.010)\n",
    "\n",
    "# check that the trigger has been disarmed\n",
    "print(\"After turning on asg:\")\n",
    "print(\"Curve ready:\", s.curve_ready())\n",
    "print(\"Trigger event age [ms]:\",8e-9*((\n",
    "s.current_timestamp&0xFFFFFFFFFFFFFFFF) - s.trigger_timestamp)*1000)\n",
    "\n",
    "# The function curve_async returns a *future* (or promise) of the curve. To\n",
    "# access the actual curve, use result()\n",
    "ch1, ch2 = res.result()\n",
    "\n",
    "# plot the data\n",
    "%matplotlib inline\n",
    "plt.plot(s.times*1e3, ch1, s.times*1e3, ch2)\n",
    "plt.xlabel(\"Time [ms]\")\n",
    "plt.ylabel(\"Voltage\")"
   ]
  },
  {
   "cell_type": "code",
   "execution_count": null,
   "id": "living-distribution",
   "metadata": {},
   "outputs": [],
   "source": [
    "# useful functions for scope diagnostics\n",
    "print(\"Curve ready:\", s.curve_ready())\n",
    "print(\"Trigger source:\",s.trigger_source)\n",
    "print(\"Trigger threshold [V]:\",s.threshold_ch1)\n",
    "print(\"Averaging:\",s.average)\n",
    "print(\"Trigger delay [s]:\",s.trigger_delay)\n",
    "print(\"Trace duration [s]: \",s.duration)\n",
    "print(\"Trigger hysteresis [V]\", s.hysteresis_ch1)\n",
    "print(\"Current scope time [cycles]:\",hex(s.current_timestamp))\n",
    "print(\"Trigger time [cycles]:\",hex(s.trigger_timestamp))\n",
    "print(\"Current voltage on channel 1 [V]:\", r.scope.voltage_in1)\n",
    "print(\"First point in data buffer 1 [V]:\", s.ch1_firstpoint)"
   ]
  },
  {
   "cell_type": "markdown",
   "id": "artistic-flower",
   "metadata": {},
   "source": [
    "# Stability Measurements"
   ]
  },
  {
   "cell_type": "code",
   "execution_count": null,
   "id": "f0e64a11",
   "metadata": {},
   "outputs": [],
   "source": [
    "# ----- data ----- #\n",
    "data = np.flip(np.loadtxt('nakayun2_03_10_2021.csv', delimiter=',', skiprows=1, usecols=[1,2]), axis=0)\n",
    "time = np.flip(np.loadtxt('nakayun2_03_10_2021.csv', delimiter=',', skiprows=1, usecols=0, dtype='str'))\n",
    "\n",
    "labels=['trash', 'spec']; col = list(mcolors.TABLEAU_COLORS)"
   ]
  },
  {
   "cell_type": "code",
   "execution_count": null,
   "id": "931b6c46",
   "metadata": {
    "scrolled": false
   },
   "outputs": [],
   "source": [
    "print(time)\n",
    "print(data)"
   ]
  },
  {
   "cell_type": "code",
   "execution_count": null,
   "id": "infinite-funeral",
   "metadata": {},
   "outputs": [],
   "source": [
    "means = []; stds = []\n",
    "fig, ax = plt.subplots(figsize=(15,5))\n",
    "\n",
    "# ----- calculate ----- #\n",
    "for i in range(len(data[0,:])):\n",
    "    mean = np.round(np.mean(data[:,i]),3); std = np.round(np.std(data[:,i]),3);means.append(mean); stds.append(std)\n",
    "    \n",
    "    # ax.text(1,0.8-i*0.3, labels[i] +': \\n mean = ' + str(mean) + ' V \\n std = ' + str(std), fontsize=14, transform=ax.transAxes, bbox=props)\n",
    "    ax.plot(time, data[:,i], label=labels[i]+': \\n mean = ' + str(mean) + ' V \\n std = ' + str(std), c=col[i])\n",
    "\n",
    "# ----- plot ----- #\n",
    "ax.legend(loc=(1,0), fontsize=12); ax.set_xlabel('time'); ax.set_ylabel('voltage')\n",
    "# ax.set_xticks(np.arange(0, len(time), int(len(time)/10)))\n",
    "# ax.set_xticklabels(time[np.arange(0, len(data), int(len(data)/10))], rotation=45)\n",
    "ax.set_title('01-03/10/2021 - Stability test (trash, spectroscopy)', fontsize=20)"
   ]
  },
  {
   "cell_type": "markdown",
   "id": "damaged-imagination",
   "metadata": {},
   "source": [
    "# MOKU:GO"
   ]
  },
  {
   "cell_type": "code",
   "execution_count": null,
   "id": "blond-story",
   "metadata": {},
   "outputs": [],
   "source": [
    "# This example demonstrates how you can configure the Oscilloscope instrument,\n",
    "# and view triggered time-voltage data frames in real-time.\n",
    "#\n",
    "# (c) 2021 Liquid Instruments Pty. Ltd.\n",
    "\n",
    "print('START : ' + datetime.datetime.now().strftime(\"%d/%m/%Y, %H:%M:%S\"))\n",
    "def on_close(event):\n",
    "    print('Closed Figure!')\n",
    "    i.relinquish_ownership()\n",
    "    \n",
    "# Connect to your Moku by its ip address using Oscilloscope('192.168.###.###')\n",
    "# or by its serial number using Oscilloscope(serial=123)\n",
    "i = Oscilloscope('129.206.180.142', force_connect=True)\n",
    "\n",
    "try:\n",
    "    # Trigger on input Channel 1, rising edge, 0V \n",
    "    i.set_trigger(type='Edge', source='Input1', level=0)\n",
    "\n",
    "    # View +-5usec, i.e. trigger in the centre\n",
    "    i.set_timebase(-5e-6, 5e-6)\n",
    "\n",
    "    # Generate an output sine wave on Channel 1, 1Vpp, 1MHz, 0V offset\n",
    "    i.generate_waveform(1, 'DC', amplitude=1)\n",
    "    i.generate_waveform(2, 'Sine', amplitude=1, frequency=1e6)\n",
    "\n",
    "    # Set the data source of Channel 1 to be Input 1\n",
    "    i.set_source(1, 'Input1')\n",
    "\n",
    "    # Set the data source of Channel 2 to the generated output sinewave\n",
    "    i.set_source(2, 'Input2')\n",
    "\n",
    "\n",
    "    # Get initial data frame to set up plotting parameters. This can be done\n",
    "    # once if we know that the axes aren't going to change (otherwise we'd do\n",
    "    # this in the loop)\n",
    "    data = i.get_data()\n",
    "    print(data.keys())\n",
    "\n",
    "    # Set up the plotting parameters\n",
    "    plt.ion()\n",
    "    plt.show()\n",
    "    plt.grid(b=True)\n",
    "    plt.ylim([-1, 1])\n",
    "    plt.xlim([data['time'][0], data['time'][-1]])\n",
    "\n",
    "    line1, = plt.plot([], label='channel 1')\n",
    "    line2, = plt.plot([], label='channel 2')\n",
    "\n",
    "    # Configure labels for axes\n",
    "    ax = plt.gca()\n",
    "    \n",
    "    # This loops continuously updates the plot with new data\n",
    "    while True:\n",
    "        # Get new data\n",
    "        data = i.get_data()\n",
    "\n",
    "        # Update the plot\n",
    "        line1.set_ydata(data['ch1'])\n",
    "        line2.set_ydata(data['ch2'])\n",
    "        line1.set_xdata(data['time'])\n",
    "        line2.set_xdata(data['time'])\n",
    "        \n",
    "        ax.set_title(datetime.datetime.now().strftime(\"%d/%m/%Y, %H:%M:%S\"))\n",
    "        ax.legend()\n",
    "\n",
    "        plt.pause(0.001)\n",
    "        \n",
    "        fig = plt.gcf()  # get current figure\n",
    "        fig.canvas.mpl_connect('close_event', on_close)\n",
    "        \n",
    "except Exception as e:\n",
    "    print(f'Exception occurred: {e}')\n",
    "except KeyboardInterrupt:\n",
    "    print('Interrupt!')\n",
    "finally:\n",
    "    # Close the connection to the Moku device\n",
    "    # This ensures network resources and released correctly\n",
    "    i.relinquish_ownership()\n",
    "    print('Ownership relinquished!')"
   ]
  },
  {
   "cell_type": "code",
   "execution_count": null,
   "id": "cordless-shift",
   "metadata": {},
   "outputs": [],
   "source": [
    "i.relinquish_ownership()"
   ]
  }
 ],
 "metadata": {
  "kernelspec": {
   "display_name": "Python 3",
   "language": "python",
   "name": "python3"
  },
  "language_info": {
   "codemirror_mode": {
    "name": "ipython",
    "version": 3
   },
   "file_extension": ".py",
   "mimetype": "text/x-python",
   "name": "python",
   "nbconvert_exporter": "python",
   "pygments_lexer": "ipython3",
   "version": "3.9.7"
  }
 },
 "nbformat": 4,
 "nbformat_minor": 5
}
