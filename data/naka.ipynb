{
 "cells": [
  {
   "cell_type": "code",
   "execution_count": 10,
   "id": "better-purpose",
   "metadata": {},
   "outputs": [],
   "source": [
    "from moku.instruments import PIDController\n",
    "from moku.instruments import Oscilloscope\n",
    "from numpy import sqrt, pi, array, arange, polyfit\n",
    "\n",
    "import matplotlib.pyplot as plt\n",
    "import matplotlib.colors as mcolors\n",
    "import numpy as np\n",
    "import datetime\n",
    "\n",
    "%matplotlib inline"
   ]
  },
  {
   "cell_type": "markdown",
   "id": "artistic-flower",
   "metadata": {},
   "source": [
    "# Stability Measurements"
   ]
  },
  {
   "cell_type": "code",
   "execution_count": 5,
   "id": "f0e64a11",
   "metadata": {},
   "outputs": [],
   "source": [
    "# ----- data ----- #\n",
    "data = np.flip(np.loadtxt('nakayun2_03_10_2021.csv', delimiter=',', skiprows=1, usecols=[1,2]), axis=0)\n",
    "time = np.flip(np.loadtxt('nakayun2_03_10_2021.csv', delimiter=',', skiprows=1, usecols=0, dtype='str'))\n",
    "\n",
    "labels=['trash', 'spec']; col = list(mcolors.TABLEAU_COLORS)"
   ]
  },
  {
   "cell_type": "code",
   "execution_count": 11,
   "id": "931b6c46",
   "metadata": {
    "scrolled": false
   },
   "outputs": [
    {
     "name": "stdout",
     "output_type": "stream",
     "text": [
      "['01/10/2021 15:47:01' '01/10/2021 15:47:32' '01/10/2021 15:47:37' ...\n",
      " '04/10/2021 08:07:50' '04/10/2021 08:07:55' '04/10/2021 08:07:59']\n",
      "[[3.152 0.068]\n",
      " [7.653 0.165]\n",
      " [7.69  0.155]\n",
      " ...\n",
      " [6.848 0.143]\n",
      " [6.861 0.131]\n",
      " [6.897 0.131]]\n"
     ]
    }
   ],
   "source": [
    "print(time)\n",
    "print(data)"
   ]
  },
  {
   "cell_type": "code",
   "execution_count": null,
   "id": "infinite-funeral",
   "metadata": {},
   "outputs": [],
   "source": [
    "means = []; stds = []\n",
    "fig, ax = plt.subplots(figsize=(15,5))\n",
    "\n",
    "# ----- calculate ----- #\n",
    "for i in range(len(data[0,:])):\n",
    "    mean = np.round(np.mean(data[:,i]),3); std = np.round(np.std(data[:,i]),3);means.append(mean); stds.append(std)\n",
    "    \n",
    "    # ax.text(1,0.8-i*0.3, labels[i] +': \\n mean = ' + str(mean) + ' V \\n std = ' + str(std), fontsize=14, transform=ax.transAxes, bbox=props)\n",
    "    ax.plot(time, data[:,i], label=labels[i]+': \\n mean = ' + str(mean) + ' V \\n std = ' + str(std), c=col[i])\n",
    "\n",
    "# ----- plot ----- #\n",
    "ax.legend(loc=(1,0), fontsize=12); ax.set_xlabel('time'); ax.set_ylabel('voltage')\n",
    "# ax.set_xticks(np.arange(0, len(time), int(len(time)/10)))\n",
    "# ax.set_xticklabels(time[np.arange(0, len(data), int(len(data)/10))], rotation=45)\n",
    "ax.set_title('01-03/10/2021 - Stability test (trash, spectroscopy)', fontsize=20)"
   ]
  },
  {
   "cell_type": "markdown",
   "id": "damaged-imagination",
   "metadata": {},
   "source": [
    "# MOKU:GO"
   ]
  },
  {
   "cell_type": "code",
   "execution_count": null,
   "id": "blond-story",
   "metadata": {},
   "outputs": [],
   "source": [
    "# This example demonstrates how you can configure the Oscilloscope instrument,\n",
    "# and view triggered time-voltage data frames in real-time.\n",
    "#\n",
    "# (c) 2021 Liquid Instruments Pty. Ltd.\n",
    "\n",
    "print('START : ' + datetime.datetime.now().strftime(\"%d/%m/%Y, %H:%M:%S\"))\n",
    "def on_close(event):\n",
    "    print('Closed Figure!')\n",
    "    i.relinquish_ownership()\n",
    "    \n",
    "# Connect to your Moku by its ip address using Oscilloscope('192.168.###.###')\n",
    "# or by its serial number using Oscilloscope(serial=123)\n",
    "i = Oscilloscope('129.206.180.142', force_connect=True)\n",
    "\n",
    "try:\n",
    "    # Trigger on input Channel 1, rising edge, 0V \n",
    "    i.set_trigger(type='Edge', source='Input1', level=0)\n",
    "\n",
    "    # View +-5usec, i.e. trigger in the centre\n",
    "    i.set_timebase(-5e-6, 5e-6)\n",
    "\n",
    "    # Generate an output sine wave on Channel 1, 1Vpp, 1MHz, 0V offset\n",
    "    i.generate_waveform(1, 'DC', amplitude=1)\n",
    "    i.generate_waveform(2, 'Sine', amplitude=1, frequency=1e6)\n",
    "\n",
    "    # Set the data source of Channel 1 to be Input 1\n",
    "    i.set_source(1, 'Input1')\n",
    "\n",
    "    # Set the data source of Channel 2 to the generated output sinewave\n",
    "    i.set_source(2, 'Input2')\n",
    "\n",
    "\n",
    "    # Get initial data frame to set up plotting parameters. This can be done\n",
    "    # once if we know that the axes aren't going to change (otherwise we'd do\n",
    "    # this in the loop)\n",
    "    data = i.get_data()\n",
    "    print(data.keys())\n",
    "\n",
    "    # Set up the plotting parameters\n",
    "    plt.ion()\n",
    "    plt.show()\n",
    "    plt.grid(b=True)\n",
    "    plt.ylim([-1, 1])\n",
    "    plt.xlim([data['time'][0], data['time'][-1]])\n",
    "\n",
    "    line1, = plt.plot([], label='channel 1')\n",
    "    line2, = plt.plot([], label='channel 2')\n",
    "\n",
    "    # Configure labels for axes\n",
    "    ax = plt.gca()\n",
    "    \n",
    "    # This loops continuously updates the plot with new data\n",
    "    while True:\n",
    "        # Get new data\n",
    "        data = i.get_data()\n",
    "\n",
    "        # Update the plot\n",
    "        line1.set_ydata(data['ch1'])\n",
    "        line2.set_ydata(data['ch2'])\n",
    "        line1.set_xdata(data['time'])\n",
    "        line2.set_xdata(data['time'])\n",
    "        \n",
    "        ax.set_title(datetime.datetime.now().strftime(\"%d/%m/%Y, %H:%M:%S\"))\n",
    "        ax.legend()\n",
    "\n",
    "        plt.pause(0.001)\n",
    "        \n",
    "        fig = plt.gcf()  # get current figure\n",
    "        fig.canvas.mpl_connect('close_event', on_close)\n",
    "        \n",
    "except Exception as e:\n",
    "    print(f'Exception occurred: {e}')\n",
    "except KeyboardInterrupt:\n",
    "    print('Interrupt!')\n",
    "finally:\n",
    "    # Close the connection to the Moku device\n",
    "    # This ensures network resources and released correctly\n",
    "    i.relinquish_ownership()\n",
    "    print('Ownership relinquished!')"
   ]
  },
  {
   "cell_type": "code",
   "execution_count": null,
   "id": "cordless-shift",
   "metadata": {},
   "outputs": [],
   "source": [
    "i.relinquish_ownership()"
   ]
  }
 ],
 "metadata": {
  "kernelspec": {
   "display_name": "Python 3 (ipykernel)",
   "language": "python",
   "name": "python3"
  },
  "language_info": {
   "codemirror_mode": {
    "name": "ipython",
    "version": 3
   },
   "file_extension": ".py",
   "mimetype": "text/x-python",
   "name": "python",
   "nbconvert_exporter": "python",
   "pygments_lexer": "ipython3",
   "version": "3.9.5"
  }
 },
 "nbformat": 4,
 "nbformat_minor": 5
}
